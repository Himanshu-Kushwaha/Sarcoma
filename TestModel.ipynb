{
 "cells": [
  {
   "cell_type": "code",
   "execution_count": 1,
   "metadata": {
    "collapsed": true
   },
   "outputs": [],
   "source": [
    "import numpy as np\n",
    "import h5py\n",
    "import scipy\n",
    "from scipy.signal import wiener, medfilt\n",
    "import pandas as pd\n",
    "import matplotlib.pyplot as plt\n",
    "from skimage.util.montage import montage2d\n",
    "from skimage.color import label2rgb\n",
    "import os\n",
    "import pickle\n",
    "%matplotlib inline\n"
   ]
  },
  {
   "cell_type": "markdown",
   "metadata": {},
   "source": [
    "# Loading previously fit model"
   ]
  },
  {
   "cell_type": "code",
   "execution_count": 2,
   "metadata": {
    "collapsed": false
   },
   "outputs": [],
   "source": [
    "loaded_model = pickle.load(open('finalized_model.sav', 'rb'))"
   ]
  },
  {
   "cell_type": "code",
   "execution_count": 3,
   "metadata": {
    "collapsed": false
   },
   "outputs": [],
   "source": [
    "def cubes2img(cubes):\n",
    "    img = np.zeros([176,96,96])\n",
    "    count = 0\n",
    "    for i in range(0,  img.shape[0], tile_size):\n",
    "        for j in range(0,  img.shape[1], tile_size):\n",
    "            for z in range(0,  img.shape[2], tile_size):\n",
    "                for i_k in range(0, tile_size, stride):\n",
    "                    for j_k in range(0, tile_size, stride):\n",
    "                        for z_k in range(0,tile_size,stride):\n",
    "                            img[i+i_k:(i+i_k+tile_size),j+j_k:(j+j_k+tile_size),z+z_k:(z+z_k+tile_size)] = cubes[count]\n",
    "                            count = count + 1\n",
    "    return img"
   ]
  },
  {
   "cell_type": "code",
   "execution_count": 4,
   "metadata": {
    "collapsed": false
   },
   "outputs": [],
   "source": [
    "def changeDimension(img):\n",
    "    a=np.vstack((np.zeros([1,100,100]),img))\n",
    "    a=a[:,2:-2,2:-2]\n",
    "    return a\n"
   ]
  },
  {
   "cell_type": "code",
   "execution_count": 26,
   "metadata": {
    "collapsed": false
   },
   "outputs": [
    {
     "data": {
      "text/plain": [
       "(-0.5, 95.5, 168.5, -0.5)"
      ]
     },
     "execution_count": 26,
     "metadata": {},
     "output_type": "execute_result"
    },
    {
     "data": {
      "image/png": "[encoded data removed]",
      "text/plain": [
       "<matplotlib.figure.Figure at 0x2020123b0f0>"
      ]
     },
     "metadata": {},
     "output_type": "display_data"
    }
   ],
   "source": [
    "ct_data, pet_data, label_data = [], [], []\n",
    "z=np.zeros([175,100,100]).astype(int)\n",
    "num_data = 7\n",
    "with h5py.File(os.path.join('..','input','lab_petct_vox_5.00mm.h5'),'r') as p_data:\n",
    "    for ct_img, pet_img, label in zip(p_data['ct_data'].values(),\n",
    "                                      p_data['pet_data'].values(),\n",
    "                                      p_data['label_data'].values()):\n",
    "        \n",
    "        #a=changeDimension(ct_img)\n",
    "        ct_data += [changeDimension(ct_img)]\n",
    "        pet_data += [changeDimension(pet_img)]\n",
    "        label_data += [changeDimension(label)]\n",
    "        num_data = num_data - 1\n",
    "        if num_data == 0:\n",
    "            break\n",
    "ct_data = [ct_data[6]]\n",
    "pet_data = [pet_data[6]]\n",
    "label_data = [label_data[6]]\n",
    "fig, ax1 = plt.subplots(1,1)\n",
    "\n",
    "css=np.sum(pet_data[0],1).squeeze()[::-1,:]\n",
    "ax1.imshow(css, cmap = 'magma')\n",
    "ax1.set_title('CT')\n",
    "ax1.axis('on')"
   ]
  },
  {
   "cell_type": "code",
   "execution_count": 27,
   "metadata": {
    "collapsed": false
   },
   "outputs": [],
   "source": [
    "ct_cubes, pet_cubes,lab_cubes = [], [], []\n",
    "tile_size=16\n",
    "stride=16\n",
    "for ct_img, pet_img, label in zip(ct_data, pet_data, label_data):\n",
    "    for i in range(0,  ct_img.shape[0], tile_size):\n",
    "        for j in range(0,  ct_img.shape[1], tile_size):\n",
    "            for z in range(0,  ct_img.shape[2], tile_size):\n",
    "                for i_k in range(0, tile_size, stride):\n",
    "                    for j_k in range(0, tile_size, stride):\n",
    "                        for z_k in range(0,tile_size,stride):\n",
    "                            ct_cubes += [ct_img[i+i_k:(i+i_k+tile_size),j+j_k:(j+j_k+tile_size),z+z_k:(z+z_k+tile_size)]]\n",
    "                            pet_cubes += [pet_img[i+i_k:(i+i_k+tile_size),j+j_k:(j+j_k+tile_size),z+z_k:(z+z_k+tile_size)]]\n",
    "                            lab_cubes += [label[i+i_k:(i+i_k+tile_size),j+j_k:(j+j_k+tile_size),z+z_k:(z+z_k+tile_size)]] \n"
   ]
  },
  {
   "cell_type": "code",
   "execution_count": 28,
   "metadata": {
    "collapsed": true
   },
   "outputs": [],
   "source": [
    "from sklearn.preprocessing import normalize\n",
    "\n",
    "def reduceCTCube(cube,axis):\n",
    "    return np.sum(cube,axis)\n",
    "    \n",
    "def reducePETCube(cube,axis):\n",
    "    cube_array=np.sqrt(np.max(cube,axis))\n",
    "    where_are_NaNs = np.isnan(cube_array)\n",
    "    cube_array[where_are_NaNs] = 0.001386386961242742\n",
    "    return cube_array\n",
    "    \n",
    "def reduceLabelCube(cube):\n",
    "    return(np.mean(cube))"
   ]
  },
  {
   "cell_type": "code",
   "execution_count": 29,
   "metadata": {
    "collapsed": false,
    "scrolled": false
   },
   "outputs": [],
   "source": [
    "data_tiles, data_labels = [], []\n",
    "\n",
    "n_ct_cubes = [c_tile for c_tile in ct_cubes if c_tile.shape == (tile_size,tile_size,tile_size)]\n",
    "n_pet_cubes = [c_tile for c_tile in pet_cubes if c_tile.shape == (tile_size,tile_size,tile_size)]\n",
    "n_lab_cubes = [c_tile for c_tile in lab_cubes if c_tile.shape == (tile_size,tile_size,tile_size)]\n",
    "\n",
    "for ct_cube, pet_cube, lab_cube in zip(n_ct_cubes, n_pet_cubes,n_lab_cubes):\n",
    "    data_tile = []\n",
    "    for axis in range(3):\n",
    "        a=reducePETCube(pet_cube, axis).flatten()\n",
    "        data_tile = np.concatenate([data_tile, a])\n",
    "    data_tiles += [data_tile]\n",
    "    data_labels += [reduceLabelCube(lab_cube)]\n"
   ]
  },
  {
   "cell_type": "code",
   "execution_count": 30,
   "metadata": {
    "collapsed": false
   },
   "outputs": [],
   "source": [
    "predictions = loaded_model.predict(data_tiles)"
   ]
  },
  {
   "cell_type": "markdown",
   "metadata": {},
   "source": [
    "# Actual Result"
   ]
  },
  {
   "cell_type": "code",
   "execution_count": 31,
   "metadata": {
    "collapsed": false
   },
   "outputs": [
    {
     "ename": "NameError",
     "evalue": "name 'test_score' is not defined",
     "output_type": "error",
     "traceback": [
      "\u001b[0;31m---------------------------------------------------------------------------\u001b[0m",
      "\u001b[0;31mNameError\u001b[0m                                 Traceback (most recent call last)",
      "\u001b[0;32m<ipython-input-31-fa167a18e8f2>\u001b[0m in \u001b[0;36m<module>\u001b[0;34m()\u001b[0m\n\u001b[1;32m      1\u001b[0m \u001b[0mfig\u001b[0m\u001b[1;33m,\u001b[0m \u001b[0max1\u001b[0m \u001b[1;33m=\u001b[0m \u001b[0mplt\u001b[0m\u001b[1;33m.\u001b[0m\u001b[0msubplots\u001b[0m\u001b[1;33m(\u001b[0m\u001b[1;36m1\u001b[0m\u001b[1;33m,\u001b[0m\u001b[1;36m1\u001b[0m\u001b[1;33m)\u001b[0m\u001b[1;33m\u001b[0m\u001b[0m\n\u001b[1;32m      2\u001b[0m \u001b[0max1\u001b[0m\u001b[1;33m.\u001b[0m\u001b[0mplot\u001b[0m\u001b[1;33m(\u001b[0m\u001b[1;33m[\u001b[0m\u001b[1;36m0\u001b[0m\u001b[1;33m,\u001b[0m\u001b[1;36m1\u001b[0m\u001b[1;33m]\u001b[0m\u001b[1;33m,\u001b[0m \u001b[1;33m[\u001b[0m\u001b[1;36m0\u001b[0m\u001b[1;33m,\u001b[0m\u001b[1;36m1\u001b[0m\u001b[1;33m]\u001b[0m\u001b[1;33m,\u001b[0m \u001b[1;34m'b-'\u001b[0m\u001b[1;33m,\u001b[0m \u001b[0mlabel\u001b[0m \u001b[1;33m=\u001b[0m \u001b[1;34m'Ideal Model'\u001b[0m\u001b[1;33m)\u001b[0m\u001b[1;33m\u001b[0m\u001b[0m\n\u001b[0;32m----> 3\u001b[0;31m \u001b[0max1\u001b[0m\u001b[1;33m.\u001b[0m\u001b[0mplot\u001b[0m\u001b[1;33m(\u001b[0m\u001b[0mtest_score\u001b[0m\u001b[1;33m[\u001b[0m\u001b[1;33m:\u001b[0m\u001b[0mn\u001b[0m\u001b[1;33m]\u001b[0m\u001b[1;33m,\u001b[0m \u001b[0mtest_predictions\u001b[0m\u001b[1;33m,\u001b[0m \u001b[1;34m'ro'\u001b[0m\u001b[1;33m,\u001b[0m \u001b[0mlabel\u001b[0m \u001b[1;33m=\u001b[0m \u001b[1;34m'Current Results'\u001b[0m\u001b[1;33m)\u001b[0m\u001b[1;33m\u001b[0m\u001b[0m\n\u001b[0m\u001b[1;32m      4\u001b[0m \u001b[0max1\u001b[0m\u001b[1;33m.\u001b[0m\u001b[0mset_xlabel\u001b[0m\u001b[1;33m(\u001b[0m\u001b[1;34m'Ground Truth Tumor Score'\u001b[0m\u001b[1;33m)\u001b[0m\u001b[1;33m\u001b[0m\u001b[0m\n\u001b[1;32m      5\u001b[0m \u001b[0max1\u001b[0m\u001b[1;33m.\u001b[0m\u001b[0mlegend\u001b[0m\u001b[1;33m(\u001b[0m\u001b[1;33m)\u001b[0m\u001b[1;33m\u001b[0m\u001b[0m\n",
      "\u001b[0;31mNameError\u001b[0m: name 'test_score' is not defined"
     ]
    },
    {
     "data": {
      "image/png": "[encoded data removed]",
      "text/plain": [
       "<matplotlib.figure.Figure at 0x20201315cf8>"
      ]
     },
     "metadata": {},
     "output_type": "display_data"
    }
   ],
   "source": [
    "fig, ax1 = plt.subplots(1,1)\n",
    "ax1.plot([0,1], [0,1], 'b-', label = 'Ideal Model')\n",
    "ax1.plot(test_score[:n], test_predictions, 'ro', label = 'Current Results')\n",
    "ax1.set_xlabel('Ground Truth Tumor Score')\n",
    "ax1.legend()\n",
    "ax1.set_ylabel('Predicted Tumor Score')\n",
    "ax1.set_xlim(-0.1,1.1)"
   ]
  },
  {
   "cell_type": "code",
   "execution_count": 32,
   "metadata": {
    "collapsed": false
   },
   "outputs": [
    {
     "data": {
      "image/png": "[encoded data removed]",
      "text/plain": [
       "<matplotlib.figure.Figure at 0x202012827f0>"
      ]
     },
     "metadata": {},
     "output_type": "display_data"
    }
   ],
   "source": [
    "l_img = np.zeros((396,16,16,16))\n",
    "l_img[np.where(np.array(data_labels) > 0)] = 1\n",
    "l_img = cubes2img(l_img)\n",
    "plt.imshow(np.max(l_img,1).squeeze()[::-1,:], cmap = 'bone')\n",
    "plt.show()\n"
   ]
  },
  {
   "cell_type": "markdown",
   "metadata": {},
   "source": [
    "# Predicted Result- Very bad result"
   ]
  },
  {
   "cell_type": "code",
   "execution_count": 33,
   "metadata": {
    "collapsed": false
   },
   "outputs": [
    {
     "data": {
      "image/png": "[encoded data removed]",
      "text/plain": [
       "<matplotlib.figure.Figure at 0x202005870f0>"
      ]
     },
     "metadata": {},
     "output_type": "display_data"
    }
   ],
   "source": [
    "l_img = np.zeros((396,16,16,16))\n",
    "l_img[np.where(np.array(predictions) > 0)] = 1\n",
    "l_img = cubes2img(l_img)\n",
    "plt.imshow(np.max(l_img,1).squeeze()[::-1,:], cmap = 'bone')\n",
    "plt.show()"
   ]
  },
  {
   "cell_type": "code",
   "execution_count": 34,
   "metadata": {
    "collapsed": false
   },
   "outputs": [
    {
     "data": {
      "text/plain": [
       "array([[341,   7],\n",
       "       [ 11,   1]])"
      ]
     },
     "execution_count": 34,
     "metadata": {},
     "output_type": "execute_result"
    }
   ],
   "source": [
    "from sklearn.metrics import confusion_matrix\n",
    "confusion_matrix(np.array(data_labels)>0, np.array(predictions)>0)"
   ]
  },
  {
   "cell_type": "code",
   "execution_count": 27,
   "metadata": {
    "collapsed": false
   },
   "outputs": [
    {
     "name": "stdout",
     "output_type": "stream",
     "text": [
      "396\n",
      "(176, 96, 96)\n"
     ]
    },
    {
     "data": {
      "image/png": "[encoded data removed]",
      "text/plain": [
       "<matplotlib.figure.Figure at 0x2859c55b710>"
      ]
     },
     "metadata": {},
     "output_type": "display_data"
    }
   ],
   "source": [
    "print(len(n_ct_cubes))    \n",
    "img=cubes2img(n_pet_cubes)\n",
    "print(np.shape(img))\n",
    "\n",
    "css=np.sqrt(np.max(img,2)).squeeze()[::-1,:]\n",
    "plt.figure(figsize = (20,20))\n",
    "plt.imshow(css, cmap = 'magma')\n",
    "plt.show()\n"
   ]
  },
  {
   "cell_type": "code",
   "execution_count": 19,
   "metadata": {
    "collapsed": false
   },
   "outputs": [
    {
     "data": {
      "text/plain": [
       "(array([164, 203, 232, 233, 238, 239, 268, 269, 274, 275], dtype=int64),)"
      ]
     },
     "execution_count": 19,
     "metadata": {},
     "output_type": "execute_result"
    }
   ],
   "source": [
    "np.where(np.array(data_labels)!=np.array(predictions))"
   ]
  },
  {
   "cell_type": "code",
   "execution_count": 20,
   "metadata": {
    "collapsed": false
   },
   "outputs": [
    {
     "data": {
      "text/plain": [
       "array([ 1.49268362,  1.45912556,  1.45118649,  1.40711348,  1.37967285,\n",
       "        1.31693323,  1.29966839,  1.32946969,  1.40748425,  1.39697613,\n",
       "        1.37780769,  1.48938723,  1.42075341,  1.48064473,  1.46945007,\n",
       "        1.4345648 ,  1.49340796,  1.44221499,  1.47215086,  1.45437054,\n",
       "        1.45678092,  1.32793093,  1.33928539,  1.36134509,  1.41669244,\n",
       "        1.48259519,  1.46840502,  1.60909792,  1.47793443,  1.35694252,\n",
       "        1.45101541,  1.41111465,  1.45921243,  1.52675364,  1.49770383,\n",
       "        1.49466677,  1.40472083,  1.33712697,  1.42379241,  1.31030794,\n",
       "        1.36672748,  1.3909063 ,  1.48481491,  1.5454897 ,  1.42257683,\n",
       "        1.32017131,  1.44593285,  1.43440163,  1.52795586,  1.47914639,\n",
       "        1.53340343,  1.50409781,  1.34906314,  1.47010717,  1.39525452,\n",
       "        1.3363375 ,  1.3614255 ,  1.35175748,  1.38043453,  1.4551883 ,\n",
       "        1.40275616,  1.33733409,  1.3488897 ,  1.34491969,  1.55472263,\n",
       "        1.66137114,  1.73792066,  1.64014203,  1.35201785,  1.43591223,\n",
       "        1.36222135,  1.39088117,  1.31959593,  1.31504238,  1.33528485,\n",
       "        1.38127576,  1.42798257,  1.34716967,  1.28447962,  1.3390694 ,\n",
       "        1.80404027,  1.85114273,  1.83379743,  1.71454006,  1.5447136 ,\n",
       "        1.42623194,  1.32716527,  1.34165989,  1.32124987,  1.31237212,\n",
       "        1.29325439,  1.37018305,  1.44604593,  1.37637754,  1.32840405,\n",
       "        1.360646  ,  2.13103106,  2.17354212,  2.02476978,  1.79743198,\n",
       "        1.71605983,  1.51547342,  1.38023513,  1.32541269,  1.24640975,\n",
       "        1.27720871,  1.31635636,  1.39068397,  1.33092967,  1.3334383 ,\n",
       "        1.36398728,  1.35967189,  2.34001613,  2.80932536,  2.98992783,\n",
       "        2.57980274,  2.40784493,  2.17078593,  1.61113233,  1.35211886,\n",
       "        1.23922957,  1.27608122,  1.39357449,  1.5016163 ,  1.48079105,\n",
       "        1.36625755,  1.37923921,  1.32216751,  2.35966045,  3.49343768,\n",
       "        4.16802069,  3.93494957,  4.03479475,  3.53211071,  2.24684784,\n",
       "        1.2837653 ,  1.15859569,  1.32559961,  1.39542724,  1.46142088,\n",
       "        1.49309793,  1.35980365,  1.38458315,  1.26154696,  2.46817905,\n",
       "        3.71843593,  4.88284607,  5.39845688,  5.74365449,  4.93584373,\n",
       "        2.96227382,  1.32298935,  1.13168964,  1.25780067,  1.32820137,\n",
       "        1.35967541,  1.39741314,  1.33427211,  1.35389169,  1.32779633,\n",
       "        2.28928375,  2.96701355,  4.43740504,  5.78503883,  6.5074048 ,\n",
       "        5.39720621,  3.16097075,  1.34320234,  1.11466538,  1.21461418,\n",
       "        1.27833785,  1.3203729 ,  1.31017385,  1.41185756,  1.25818529,\n",
       "        1.25968888,  2.2072977 ,  2.84194956,  3.50772264,  5.14146146,\n",
       "        5.6676802 ,  4.40674289,  2.52459585,  1.14358977,  1.14642368,\n",
       "        1.20212674,  1.22824216,  1.29299069,  1.34855924,  1.3484251 ,\n",
       "        1.22469697,  1.1441144 ,  2.40292479,  2.86757476,  2.72371355,\n",
       "        3.18913401,  3.58354065,  2.70271162,  1.71441433,  1.1445044 ,\n",
       "        1.22630457,  1.33357195,  1.266264  ,  1.19613631,  1.23098973,\n",
       "        1.2291526 ,  1.15399943,  1.15298588,  2.16494355,  2.24244195,\n",
       "        2.05840104,  2.00114326,  1.99916659,  1.71486832,  1.26509303,\n",
       "        1.16215201,  1.23964144,  1.21468768,  1.14598316,  1.11769769,\n",
       "        1.08084621,  1.1117697 ,  1.12445671,  1.22911352,  1.87663412,\n",
       "        1.76822089,  1.72421656,  1.51287133,  1.31831764,  1.33216124,\n",
       "        1.07387094,  1.15842526,  1.29789915,  1.23045123,  1.10072761,\n",
       "        1.05622373,  1.04350825,  1.0595277 ,  1.08208421,  1.16377454,\n",
       "        1.50209558,  1.41389857,  1.38189306,  1.23860508,  1.2220726 ,\n",
       "        1.11866805,  1.14593723,  1.24653965,  1.25423448,  1.14448411,\n",
       "        1.0678261 ,  1.01336484,  1.07399847,  1.21273284,  1.20598793,\n",
       "        1.26997823,  1.43596889,  1.37331814,  1.49770383,  1.42992412,\n",
       "        1.26472558,  1.22285526,  1.26576087,  1.35079409,  1.29096788,\n",
       "        1.35175748,  1.27737371,  1.26074607,  1.26373832,  1.29078433,\n",
       "        1.38458315,  1.15296319,  1.43596069,  1.41064196,  1.45138369,\n",
       "        1.35779474,  1.29969493,  1.27458085,  1.26414927,  1.39088117,\n",
       "        1.32124987,  1.31365861,  1.29253967,  1.27962855,  1.33598616,\n",
       "        1.41185756,  1.36179451,  1.34308937,  1.4029195 ,  1.4161895 ,\n",
       "        1.43903825,  1.35227723,  1.45678092,  1.32793093,  1.3374523 ,\n",
       "        1.36134509,  1.41669244,  1.48259519,  1.42889521,  1.27935107,\n",
       "        1.24482298,  1.34110457,  1.46945007,  1.2553678 ,  1.49340796,\n",
       "        1.52675364,  1.54274163,  1.49466677,  1.39340034,  1.28245912,\n",
       "        1.26809637,  1.24375801,  1.2178839 ,  1.18636406,  1.27195514,\n",
       "        1.34314648,  1.40950152,  1.48064473,  1.40235535,  1.3466481 ,\n",
       "        1.44623092,  1.61010205,  1.48794161,  1.50757965,  1.37348517,\n",
       "        1.20430901,  1.14450993,  1.1776248 ,  1.22714845,  1.27659306,\n",
       "        1.31360171,  1.34156079,  1.33510272,  1.32929378,  1.44593285,\n",
       "        1.34491969,  1.62282327,  1.7654937 ,  1.72667416,  1.5433321 ,\n",
       "        1.24487998,  1.1937793 ,  1.24209662,  1.16609131,  1.28686513,\n",
       "        1.24282662,  1.32079265,  1.365799  ,  1.33627246,  1.36625755,\n",
       "        1.36398728,  1.35967189,  1.71454664,  2.31727127,  2.39541045,\n",
       "        1.79976885,  1.27721188,  1.25714015,  1.23448223,  1.22491301,\n",
       "        1.29789915,  1.32559961,  1.39542724,  1.5016163 ,  1.49309793,\n",
       "        1.35620452,  1.27640284,  1.360646  ,  2.13862438,  3.02668766,\n",
       "        3.1003008 ,  1.96507255,  1.57545873,  1.42623194,  1.27342158,\n",
       "        1.30353593,  1.31687974,  1.33357195,  1.32820137,  1.3846806 ,\n",
       "        1.40026535,  1.35705214,  1.35389169,  1.26997823,  2.46817905,\n",
       "        3.49343768,  3.8756137 ,  2.74191042,  1.85134683,  1.33543596,\n",
       "        1.25001739,  1.28953899,  1.28410537,  1.38160155,  1.34224442,\n",
       "        1.27299958,  1.24889509,  1.2897825 ,  1.37878367,  1.41111465,\n",
       "        2.46018763,  3.71843593,  4.66139866,  3.9841062 ,  3.13516681,\n",
       "        2.12344599,  1.42379241,  1.27474119,  1.25599019,  1.25535099,\n",
       "        1.29333566,  1.27215177,  1.1912594 ,  1.09598431,  1.23169997,\n",
       "        1.23320092,  2.20316395,  3.48353404,  4.88284607,  5.05626735,\n",
       "        4.64966299,  3.34372967,  1.94153979,  1.32840417,  1.40748425,\n",
       "        1.39697613,  1.29897945,  1.24032758,  1.23480118,  1.2654718 ,\n",
       "        1.22727397,  1.22832434,  2.23373602,  2.77477394,  4.31373043,\n",
       "        5.7504341 ,  5.84906318,  4.61848741,  2.70387824,  1.29028291,\n",
       "        1.40366926,  1.37272481,  1.32020199,  1.2808179 ,  1.26144158,\n",
       "        1.40891783,  1.37227777,  1.25612901,  2.34001613,  2.52049561,\n",
       "        3.99702444,  5.78503883,  6.5074048 ,  5.39720621,  3.13131414,\n",
       "        1.28933172,  1.31990265,  1.31796368,  1.34783489,  1.34119504,\n",
       "        1.31197228,  1.33733409,  1.30324141,  1.4345648 ,  2.18299066,\n",
       "        2.35997472,  3.67810324,  5.41819895,  6.3035881 ,  5.34946458,\n",
       "        3.16097075,  1.34320234,  1.32450183,  1.32613015,  1.26031789,\n",
       "        1.35861146,  1.43065049,  1.36492194,  1.41039983,  1.36489039,\n",
       "        2.07165135,  2.75389543,  3.50772264,  4.66385101,  5.1049537 ,\n",
       "        4.29506354,  2.53381626,  1.32946969,  1.38742737,  1.37541865,\n",
       "        1.36192634,  1.38127576,  1.44604593,  1.35357225,  1.33431115,\n",
       "        1.36412839,  2.40292479,  2.86757476,  3.02687203,  3.49327004,\n",
       "        3.8647083 ,  2.99297502,  1.80407841,  1.35211886,  1.37693465,\n",
       "        1.3909063 ,  1.48481491,  1.60909792,  1.47793443,  1.35971398,\n",
       "        1.35023249,  1.34301085,  1.38825295,  1.47215086,  1.49770383,\n",
       "        1.3618502 ,  1.40434436,  1.43596889,  1.41761109,  1.37923921,\n",
       "        1.38458315,  1.34757561,  1.25818529,  1.23757428,  1.17785985,\n",
       "        1.22216143,  1.19423732,  1.08185812,  1.36362579,  1.45138369,\n",
       "        1.44196161,  1.39581091,  1.43596069,  1.38425733,  1.3334383 ,\n",
       "        1.29421203,  1.21491067,  1.322847  ,  1.41185756,  1.32850273,\n",
       "        1.2291526 ,  1.149929  ,  1.10072761,  1.035881  ,  1.46945007,\n",
       "        1.48259519,  1.37712421,  1.39066606,  1.4161895 ,  1.41462597,\n",
       "        1.43903825,  1.41490001,  1.31531149,  1.30458885,  1.17329663,\n",
       "        1.09217739,  1.07346332,  1.17035534,  1.1226909 ,  1.04412826,\n",
       "        1.49268362,  1.49340796,  1.52675364,  1.45644613,  1.38968172,\n",
       "        1.43589257,  1.50048584,  1.54274163,  1.51385403,  1.41705572,\n",
       "        1.32297947,  1.19494983,  1.11825605,  1.16136373,  1.14048601,\n",
       "        1.02223767,  1.42323772,  1.42770011,  1.44593285,  1.44939769,\n",
       "        1.50757965,  1.42258   ,  1.49304829,  1.48794161,  1.44241616,\n",
       "        1.47956006,  1.61010205,  1.50016829,  1.28183071,  1.11851674,\n",
       "        1.16377454,  1.0441574 ,  1.45912556,  1.34112345,  1.2912704 ,\n",
       "        1.27641468,  1.31404482,  1.43674861,  1.63054522,  1.7654937 ,\n",
       "        1.74688237,  1.60316198,  1.49383838,  1.39920209,  1.28294511,\n",
       "        1.23964144,  1.28686513,  1.14448411,  1.45118649,  1.34917084,\n",
       "        1.36992475,  1.33227988,  1.33575442,  1.51647628,  1.86210797,\n",
       "        2.29732736,  2.39541045,  2.19920388,  1.9113105 ,  1.57799734,\n",
       "        1.39990018,  1.31174452,  1.29789915,  1.25423448,  1.28830519,\n",
       "        1.34332259,  1.45921243,  1.51994073,  1.4460593 ,  1.55752523,\n",
       "        1.96499304,  2.63412377,  3.1003008 ,  2.99157728,  2.38873081,\n",
       "        1.77797582,  1.46931409,  1.27989253,  1.1929477 ,  1.26997823,\n",
       "        1.38160155,  1.41111465,  1.45407359,  1.52795586,  1.55472263,\n",
       "        1.62479911,  2.02591544,  2.92521839,  3.82312648,  3.8756137 ,\n",
       "        2.88668635,  1.98817751,  1.69217399,  1.42633197,  1.23590663,\n",
       "        1.11370244,  1.25599019,  1.33928539,  1.42379241,  1.47010717,\n",
       "        1.49569309,  1.66831318,  2.02476978,  2.98992783,  4.16802069,\n",
       "        4.66139866,  3.68089678,  2.50465157,  1.82137601,  1.45656243,\n",
       "        1.30991341,  1.13158858,  1.40748425,  1.34798415,  1.3888538 ,\n",
       "        1.53340343,  1.66137114,  1.82942066,  2.10452825,  2.71168528,\n",
       "        3.92156667,  5.03920974,  5.05626735,  3.49953301,  1.90035438,\n",
       "        1.57688129,  1.36227689,  1.15896724,  1.40891783,  1.40366926,\n",
       "        1.40472083,  1.38779145,  1.68521204,  1.83379743,  2.16768721,\n",
       "        2.55460959,  3.93494957,  5.39845688,  5.84906318,  4.71751848,\n",
       "        2.59669918,  1.68614303,  1.42915226,  1.21273284,  1.4345648 ,\n",
       "        1.4062295 ,  1.43440163,  1.47520936,  1.73792066,  1.85114273,\n",
       "        2.17354212,  2.47067139,  4.03479475,  5.74365449,  6.5074048 ,\n",
       "        5.66297897,  3.24434803,  2.10810162,  1.68409521,  1.30078792,\n",
       "        1.36492194,  1.37843695,  1.41563652,  1.50409781,  1.54372914,\n",
       "        1.73017456,  2.00161242,  2.28980682,  3.65836314,  5.34061546,\n",
       "        6.3035881 ,  5.6676802 ,  3.58354065,  2.16494355,  1.87663412,\n",
       "        1.49174374,  1.40491647,  1.38742737,  1.34925952,  1.36192634,\n",
       "        1.40864046,  1.5447136 ,  1.71605983,  2.00203478,  2.94218494,\n",
       "        4.20787417,  5.1049537 ,  4.98345594,  3.42061971,  2.06338252,\n",
       "        1.79235544,  1.46513204,  1.48938723,  1.60909792,  1.5454897 ,\n",
       "        1.4551883 ,  1.39878338,  1.42092302,  1.52993104,  1.76433809,\n",
       "        2.19286008,  2.95757303,  3.79274699,  3.8647083 ,  2.86757476,\n",
       "        2.24244195,  1.79245759,  1.50209558])"
      ]
     },
     "execution_count": 20,
     "metadata": {},
     "output_type": "execute_result"
    }
   ],
   "source": [
    "data_tiles[164]"
   ]
  },
  {
   "cell_type": "code",
   "execution_count": 21,
   "metadata": {
    "collapsed": false
   },
   "outputs": [
    {
     "data": {
      "text/plain": [
       "array([ 1.29924925,  1.39482466,  1.42164502,  1.46073495,  1.45432144,\n",
       "        1.36585707,  1.3743533 ,  1.40134988,  1.32396899,  1.23566665,\n",
       "        1.36076318,  1.55847321,  1.67175663,  1.51753404,  1.45255803,\n",
       "        1.52028156,  1.39520907,  1.35843607,  1.39303312,  1.47165386,\n",
       "        1.43382172,  1.38737446,  1.43380246,  1.47473462,  1.31216705,\n",
       "        1.28034525,  1.30887294,  1.53147831,  1.74259951,  1.48111852,\n",
       "        1.52822168,  1.58809399,  1.44627719,  1.46334047,  1.39798471,\n",
       "        1.44827108,  1.37477448,  1.30856942,  1.41020986,  1.4111971 ,\n",
       "        1.31389445,  1.22905861,  1.2773003 ,  1.41755002,  1.70802829,\n",
       "        1.51169786,  1.540298  ,  1.72027964,  1.4434037 ,  1.43446507,\n",
       "        1.41362578,  1.41021469,  1.37367474,  1.35220623,  1.35551313,\n",
       "        1.29193654,  1.28006587,  1.24295094,  1.28928954,  1.38954915,\n",
       "        1.57982595,  1.48990287,  1.52707338,  1.65656242,  1.43827315,\n",
       "        1.43925326,  1.39989014,  1.3963421 ,  1.32439679,  1.32548274,\n",
       "        1.33146463,  1.30772443,  1.26123785,  1.2098334 ,  1.30922678,\n",
       "        1.34637363,  1.47685776,  1.37566134,  1.54888993,  1.56765771,\n",
       "        1.37285875,  1.45728175,  1.40221136,  1.30506915,  1.25545278,\n",
       "        1.25502423,  1.33048844,  1.33570684,  1.31002434,  1.25180738,\n",
       "        1.28272691,  1.30787571,  1.31493067,  1.34454502,  1.53278506,\n",
       "        1.46996856,  1.35496132,  1.3937826 ,  1.3131964 ,  1.17669199,\n",
       "        1.17776303,  1.21836493,  1.27947696,  1.28746341,  1.32060059,\n",
       "        1.27903161,  1.26509532,  1.4272749 ,  1.4235011 ,  1.4277062 ,\n",
       "        1.49346188,  1.448621  ,  1.343332  ,  1.23168869,  1.1280451 ,\n",
       "        1.04044671,  1.1142845 ,  1.17292508,  1.16340123,  1.18981374,\n",
       "        1.26449274,  1.29768858,  1.3405289 ,  1.51382582,  1.54373855,\n",
       "        1.51248699,  1.49397518,  1.46677639,  1.21801101,  1.09687171,\n",
       "        0.97618255,  0.94059423,  1.07326399,  1.17941711,  1.13395501,\n",
       "        1.18604178,  1.31179741,  1.32326433,  1.45593116,  1.55475541,\n",
       "        1.6163889 ,  1.60246354,  1.57659297,  1.46567414,  1.09954659,\n",
       "        1.01394288,  1.02775408,  0.92033148,  1.00972524,  1.07359959,\n",
       "        1.18030408,  1.48626634,  1.65013036,  1.51829511,  1.49247132,\n",
       "        1.61161896,  1.65352435,  1.71663815,  1.64589084,  1.42647562,\n",
       "        1.11270962,  1.00228486,  1.02223803,  0.97324533,  1.00360147,\n",
       "        1.02013792,  1.43429218,  2.15889849,  2.42960866,  2.00127948,\n",
       "        1.52335313,  1.73978526,  1.7449432 ,  1.64210543,  1.58438955,\n",
       "        1.39679528,  1.12627723,  1.03328969,  0.99345775,  0.93826619,\n",
       "        0.99177941,  1.03652537,  1.71820991,  2.81022416,  3.27080857,\n",
       "        2.61429585,  1.67115405,  1.66986738,  1.67382778,  1.55584209,\n",
       "        1.48901631,  1.52052995,  1.18434315,  1.04798775,  1.07413165,\n",
       "        1.01181425,  1.02626833,  1.12309284,  1.51182918,  2.6509524 ,\n",
       "        3.37113263,  2.87757479,  1.59809489,  1.49822771,  1.48804379,\n",
       "        1.53247186,  1.58173579,  1.57291167,  1.24988724,  1.05936892,\n",
       "        0.9863963 ,  0.92873113,  0.96787844,  1.14217249,  1.28157556,\n",
       "        1.918111  ,  2.41769746,  2.15835096,  1.41719903,  1.36938653,\n",
       "        1.42506077,  1.6436465 ,  1.56330752,  1.58754942,  1.21075982,\n",
       "        1.0698341 ,  1.0559977 ,  0.95317725,  0.93659578,  1.13156609,\n",
       "        1.32162685,  1.54749844,  1.70360792,  1.65648572,  1.389462  ,\n",
       "        1.45211381,  1.60976946,  1.67301762,  1.55284087,  1.63172855,\n",
       "        1.13286681,  1.07061304,  1.10127555,  1.11811712,  1.02303492,\n",
       "        1.16906151,  1.31657928,  1.37638356,  1.44551636,  1.51095939,\n",
       "        1.42799293,  1.45758851,  1.588983  ,  1.52551273,  1.51857276,\n",
       "        1.41331939,  1.09831587,  1.04057278,  1.02994577,  1.11811712,\n",
       "        1.05523929,  1.14373403,  1.21229064,  1.26044474,  1.31389445,\n",
       "        1.24295094,  1.30841416,  1.28607842,  1.36586083,  1.39024523,\n",
       "        1.27440717,  1.33889501,  1.16968202,  1.1595963 ,  1.17791951,\n",
       "        1.12176717,  1.02466357,  1.09165949,  1.20119839,  1.25641756,\n",
       "        1.21155506,  1.21654957,  1.23101377,  1.25562225,  1.33019758,\n",
       "        1.38353282,  1.37326006,  1.23969269,  1.11088702,  1.25313362,\n",
       "        1.27832073,  1.07091714,  1.13421533,  1.15538958,  1.18376978,\n",
       "        1.21739274,  1.17550566,  1.32326433,  1.35096091,  1.40450561,\n",
       "        1.504729  ,  1.4070591 ,  1.31607901,  1.30878383,  1.30349615,\n",
       "        1.30720884,  1.28113933,  1.19581635,  1.03089675,  1.16809162,\n",
       "        1.25039181,  1.18901884,  1.25731654,  1.21717612,  1.2779402 ,\n",
       "        1.38322119,  1.4055271 ,  1.43177807,  1.44826073,  1.30076015,\n",
       "        1.24988724,  1.39482466,  1.28854475,  1.15159763,  1.20224574,\n",
       "        1.23505148,  1.28036822,  1.23998343,  1.29180976,  1.31300609,\n",
       "        1.28928954,  1.4329639 ,  1.44616749,  1.51753404,  1.52438676,\n",
       "        1.59403493,  1.20268688,  1.15767721,  1.23920583,  1.32668312,\n",
       "        1.3753166 ,  1.33420178,  1.33146463,  1.34697978,  1.32396899,\n",
       "        1.27903161,  1.3119695 ,  1.34260052,  1.30997849,  1.33984168,\n",
       "        1.4780402 ,  1.54248858,  1.31566546,  1.32509201,  1.32042424,\n",
       "        1.35491161,  1.30282881,  1.33935663,  1.43380246,  1.47473462,\n",
       "        1.30530648,  1.29242933,  1.37471207,  1.47122234,  1.51091382,\n",
       "        1.4416859 ,  1.35169556,  1.50067664,  1.41881638,  1.43446963,\n",
       "        1.39453549,  1.47165386,  1.45432144,  1.35220623,  1.29169663,\n",
       "        1.25295718,  1.23031497,  1.26391771,  1.45593116,  1.53900037,\n",
       "        1.57602873,  1.53329905,  1.34696896,  1.28950393,  1.27210625,\n",
       "        1.4072231 ,  1.41362578,  1.41021469,  1.4218006 ,  1.38737446,\n",
       "        1.29152773,  1.23413041,  1.17624248,  1.21771764,  1.38608486,\n",
       "        1.53484471,  1.7233312 ,  1.61992121,  1.54888993,  1.46996856,\n",
       "        1.21803299,  1.34177432,  1.36429492,  1.46073495,  1.4540113 ,\n",
       "        1.36585707,  1.28075099,  1.31116773,  1.54979919,  1.58993358,\n",
       "        1.49776542,  1.40418002,  1.60840301,  1.61494139,  1.56153184,\n",
       "        1.72027964,  1.21075982,  1.41165885,  1.39989014,  1.27907492,\n",
       "        1.25020458,  1.29539105,  1.41433069,  2.22580939,  2.57561973,\n",
       "        2.18214435,  1.67115405,  1.56017906,  1.48115805,  1.55031667,\n",
       "        1.57659297,  1.64692468,  1.23469854,  1.40545107,  1.31726575,\n",
       "        1.15449987,  1.16808096,  1.22132594,  1.71820991,  2.81022416,\n",
       "        3.27080857,  2.62323249,  1.60818487,  1.57871169,  1.64743629,\n",
       "        1.71663815,  1.64589084,  1.58634361,  1.35751971,  1.46334047,\n",
       "        1.28212927,  1.16280404,  1.18704617,  1.17941711,  1.56498426,\n",
       "        2.6509524 ,  3.37113263,  2.87757479,  1.51084114,  1.55475541,\n",
       "        1.6163889 ,  1.56773449,  1.540298  ,  1.59724499,  1.25800939,\n",
       "        1.45728175,  1.40221136,  1.3963421 ,  1.36216941,  1.27882951,\n",
       "        1.26192505,  2.3423396 ,  3.09656336,  2.7723344 ,  1.59809489,\n",
       "        1.53147831,  1.74259951,  1.55037665,  1.58173579,  1.48822111,\n",
       "        1.44627719,  1.39171107,  1.36383865,  1.35387322,  1.38344649,\n",
       "        1.27869081,  1.31164346,  1.66038879,  2.28456633,  2.34686357,\n",
       "        1.5636657 ,  1.66561296,  1.70802829,  1.55584209,  1.5250547 ,\n",
       "        1.38270751,  1.39782635,  1.43925326,  1.42164502,  1.35839313,\n",
       "        1.26007929,  1.23410791,  1.32162685,  1.45269552,  1.62701497,\n",
       "        1.73949999,  1.48987418,  1.73978526,  1.7449432 ,  1.67301762,\n",
       "        1.51496037,  1.29717394,  1.2297922 ,  1.31216705,  1.31389445,\n",
       "        1.28979861,  1.28369117,  1.33045041,  1.33889501,  1.36586083,\n",
       "        1.39024523,  1.29965842,  1.1531089 ,  1.09831587,  1.05920269,\n",
       "        1.03576691,  1.09320619,  1.11811712,  1.38353282,  1.25562225,\n",
       "        1.21340258,  1.25463252,  1.28990739,  1.33162705,  1.33019758,\n",
       "        1.31372484,  1.20030359,  1.15904599,  1.0789446 ,  1.10172007,\n",
       "        1.09706283,  1.04715207,  1.08871422,  1.03509443,  1.504729  ,\n",
       "        1.28611583,  1.21321891,  1.1918468 ,  1.2328864 ,  1.29837379,\n",
       "        1.30878383,  1.2878376 ,  1.32326433,  1.28704819,  1.35096091,\n",
       "        1.20172512,  1.11387307,  1.03631789,  1.11088702,  1.049189  ,\n",
       "        1.44826073,  1.40221035,  1.26922668,  1.28113933,  1.2437306 ,\n",
       "        1.25039181,  1.2634776 ,  1.29444387,  1.22854802,  1.21417679,\n",
       "        1.2779402 ,  1.21786602,  1.07413165,  1.13242055,  1.04463138,\n",
       "        1.0269784 ,  1.51753404,  1.56256063,  1.59403493,  1.42065244,\n",
       "        1.37566134,  1.28336945,  1.26078778,  1.29768858,  1.31300609,\n",
       "        1.24761868,  1.20192326,  1.12627723,  1.18434315,  1.24988724,\n",
       "        1.18994884,  1.09043173,  1.37794267,  1.4780402 ,  1.54248858,\n",
       "        1.50082678,  1.39953929,  1.33570684,  1.32060059,  1.32831989,\n",
       "        1.31040785,  1.32388531,  1.34260052,  1.2662743 ,  1.09239133,\n",
       "        0.98669086,  1.02157192,  1.02832831,  1.40134988,  1.47473462,\n",
       "        1.4111971 ,  1.50067664,  1.4624445 ,  1.35280207,  1.31196124,\n",
       "        1.35169556,  1.42351314,  1.4416859 ,  1.51091382,  1.47252851,\n",
       "        1.28382121,  1.22559431,  1.14566284,  1.08911544,  1.45432144,\n",
       "        1.47165386,  1.44827108,  1.43446507,  1.43446963,  1.28950393,\n",
       "        1.31259015,  1.35832293,  1.53900037,  1.53166215,  1.57602873,\n",
       "        1.54011037,  1.4320924 ,  1.39499225,  1.31048902,  1.26372551,\n",
       "        1.4218006 ,  1.38737446,  1.39798471,  1.48363883,  1.54888993,\n",
       "        1.53278506,  1.49346188,  1.47640763,  1.56595825,  1.65352435,\n",
       "        1.7233312 ,  1.66454727,  1.45852397,  1.49972404,  1.5306402 ,\n",
       "        1.41305836,  1.52028156,  1.58809399,  1.72027964,  1.65656242,\n",
       "        1.4945782 ,  1.43859526,  1.448621  ,  1.49397518,  1.59380554,\n",
       "        1.61494139,  1.57609171,  1.58993358,  1.44226506,  1.5472954 ,\n",
       "        1.63172855,  1.588983  ,  1.37484569,  1.52683156,  1.64692468,\n",
       "        1.6045416 ,  1.48620729,  1.39025704,  1.39677426,  1.48658084,\n",
       "        1.57659297,  1.65013036,  2.14145122,  2.57561973,  2.33816495,\n",
       "        1.58754942,  1.55284087,  1.47793563,  1.34676982,  1.42395053,\n",
       "        1.47804675,  1.49705689,  1.52060918,  1.51269016,  1.45174965,\n",
       "        1.53195925,  1.60476911,  1.71663815,  2.42960866,  3.27080857,\n",
       "        3.04582879,  1.92634106,  1.60976946,  1.51857276,  1.44364861,\n",
       "        1.48111852,  1.540298  ,  1.59724499,  1.56765771,  1.46248758,\n",
       "        1.4272749 ,  1.54373855,  1.6163889 ,  1.59529901,  2.25743842,\n",
       "        3.19447007,  3.37113263,  2.24093127,  1.42339835,  1.45576916,\n",
       "        1.67175663,  1.74259951,  1.6989041 ,  1.46836464,  1.46451014,\n",
       "        1.46453602,  1.40143116,  1.38510849,  1.45523923,  1.50974063,\n",
       "        1.75710067,  2.56554714,  3.09656336,  2.41769746,  1.70360792,\n",
       "        1.49141899,  1.59338313,  1.64267022,  1.70802829,  1.5517215 ,\n",
       "        1.43827315,  1.39171107,  1.35496132,  1.42679006,  1.54882501,\n",
       "        1.61161896,  1.68751118,  1.86727005,  2.34686357,  2.0782099 ,\n",
       "        1.62688882,  1.47547755,  1.53280994,  1.62109073,  1.64745042,\n",
       "        1.57982595,  1.47685776,  1.37295886,  1.26001959,  1.2733908 ,\n",
       "        1.37590672,  1.59123434,  1.7449432 ,  1.66986738,  1.67453941,\n",
       "        1.73949999,  1.67301762,  1.52612459])"
      ]
     },
     "execution_count": 21,
     "metadata": {},
     "output_type": "execute_result"
    }
   ],
   "source": [
    "data_tiles[165]"
   ]
  },
  {
   "cell_type": "code",
   "execution_count": null,
   "metadata": {
    "collapsed": true
   },
   "outputs": [],
   "source": [
    "css=np.sqrt(np.max(img,2)).squeeze()[::-1,:]\n",
    "plt.figure(figsize = (20,20))\n",
    "plt.imshow(css, cmap = 'magma')\n",
    "plt.show()"
   ]
  }
 ],
 "metadata": {
  "kernelspec": {
   "display_name": "Python 3",
   "language": "python",
   "name": "python3"
  },
  "language_info": {
   "codemirror_mode": {
    "name": "ipython",
    "version": 3
   },
   "file_extension": ".py",
   "mimetype": "text/x-python",
   "name": "python",
   "nbconvert_exporter": "python",
   "pygments_lexer": "ipython3",
   "version": "3.5.2"
  }
 },
 "nbformat": 4,
 "nbformat_minor": 2
}
