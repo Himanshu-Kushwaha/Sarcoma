{
 "cells": [
  {
   "cell_type": "code",
   "execution_count": 1,
   "metadata": {
    "collapsed": true
   },
   "outputs": [],
   "source": [
    "import numpy as np\n",
    "import h5py\n",
    "import scipy\n",
    "from scipy.signal import wiener, medfilt\n",
    "import pandas as pd\n",
    "import matplotlib.pyplot as plt\n",
    "from skimage.util.montage import montage2d\n",
    "from skimage.color import label2rgb\n",
    "import os\n",
    "import pickle\n",
    "%matplotlib inline\n"
   ]
  },
  {
   "cell_type": "code",
   "execution_count": 3,
   "metadata": {
    "collapsed": false
   },
   "outputs": [],
   "source": [
    "loaded_model = pickle.load(open('finalized_model.sav', 'rb'))"
   ]
  },
  {
   "cell_type": "code",
   "execution_count": 4,
   "metadata": {
    "collapsed": false
   },
   "outputs": [],
   "source": [
    "ct_data, pet_data, label_data = [], [], []\n",
    "num_data = 1\n",
    "with h5py.File(os.path.join('..','input','lab_petct_vox_5.00mm.h5'),'r') as p_data:\n",
    "    for ct_img, pet_img, label in zip(p_data['ct_data'].values(),\n",
    "                                      p_data['pet_data'].values(),\n",
    "                                      p_data['label_data'].values()):\n",
    "        #print(np.shape(ct_img))\n",
    "        #print(len(ct_img))\n",
    "        ct_data += [np.array(ct_img)]\n",
    "        pet_data += [np.array(pet_img)]\n",
    "        label_data += [np.array(label)]\n",
    "        num_data = num_data - 1\n",
    "        if num_data == 0:\n",
    "            break"
   ]
  },
  {
   "cell_type": "code",
   "execution_count": 5,
   "metadata": {
    "collapsed": false
   },
   "outputs": [],
   "source": [
    "ct_cubes, pet_cubes,lab_cubes = [], [], []\n",
    "tile_size=16\n",
    "stride=16\n",
    "for ct_img, pet_img, label in zip(ct_data, pet_data, label_data):\n",
    "    for i in range(0,  ct_img.shape[0], tile_size):\n",
    "        for j in range(0,  ct_img.shape[1], tile_size):\n",
    "            for z in range(0,  ct_img.shape[2], tile_size):\n",
    "                for i_k in range(0, tile_size, stride):\n",
    "                    for j_k in range(0, tile_size, stride):\n",
    "                        for z_k in range(0,tile_size,stride):\n",
    "                            ct_cubes += [ct_img[i+i_k:(i+i_k+tile_size),j+j_k:(j+j_k+tile_size),z+z_k:(z+z_k+tile_size)]]\n",
    "                            pet_cubes += [pet_img[i+i_k:(i+i_k+tile_size),j+j_k:(j+j_k+tile_size),z+z_k:(z+z_k+tile_size)]]\n",
    "                            lab_cubes += [label[i+i_k:(i+i_k+tile_size),j+j_k:(j+j_k+tile_size),z+z_k:(z+z_k+tile_size)]] \n"
   ]
  },
  {
   "cell_type": "code",
   "execution_count": 6,
   "metadata": {
    "collapsed": true
   },
   "outputs": [],
   "source": [
    "# The following functions take a cube and an axis and return a projection of the tile along the axis\n",
    "from sklearn.preprocessing import normalize\n",
    "\n",
    "def reduceCTCube(cube,axis):\n",
    "    return np.sum(cube,axis)\n",
    "    \n",
    "def reducePETCube(cube,axis):\n",
    "    #if(np.sqrt(np.max(cube,axis)==nan)):\n",
    "        #print(mk,axis)\n",
    "    cube_array=np.sqrt(np.max(cube,axis))\n",
    "    where_are_NaNs = np.isnan(cube_array)\n",
    "    #print([where_are_NaNs])\n",
    "    cube_array[where_are_NaNs] = 0.001386386961242742\n",
    "    #return np.sqrt(np.max(cube,axis))\n",
    "    #if np.any(np.isnan(cube_array)):\n",
    "        #print('sad')\n",
    "    return cube_array\n",
    "    \n",
    "def reduceLabelCube(cube):\n",
    "    # write here, returns a single value, not a list/array    \n",
    "    return(np.mean(cube))"
   ]
  },
  {
   "cell_type": "code",
   "execution_count": 7,
   "metadata": {
    "collapsed": false
   },
   "outputs": [
    {
     "name": "stdout",
     "output_type": "stream",
     "text": [
      "360\n"
     ]
    },
    {
     "name": "stderr",
     "output_type": "stream",
     "text": [
      "C:\\Users\\Himanshu\\Miniconda3\\lib\\site-packages\\ipykernel\\__main__.py:10: RuntimeWarning: invalid value encountered in sqrt\n"
     ]
    }
   ],
   "source": [
    "data_tiles, data_labels = [], []\n",
    "\n",
    "n_ct_cubes = [c_tile for c_tile in ct_cubes if c_tile.shape == (tile_size,tile_size,tile_size)]\n",
    "n_pet_cubes = [c_tile for c_tile in pet_cubes if c_tile.shape == (tile_size,tile_size,tile_size)]\n",
    "n_lab_cubes = [c_tile for c_tile in lab_cubes if c_tile.shape == (tile_size,tile_size,tile_size)]\n",
    "\n",
    "#ct_cube_final, pet_cube_final, lab_cube_final = zip(*[(c_cube, p_cube, l_cube) \n",
    "      #for c_cube, p_cube, l_cube in zip(n_ct_cubes, n_pet_cubes, n_lab_cubes)\n",
    "     #if np.mean(c_cube) > -1001 and np.mean(p_cube) > .0002])\n",
    "#print('%d tiles removed' % (len(n_ct_cubes)-len(ct_cube_final)))\n",
    "\n",
    "#print(len(pet_cube_final))\n",
    "\n",
    "#for ct_cube, pet_cube, lab_cube in zip(ct_cube_final, pet_cube_final,lab_cube_final):\n",
    "#mk=0\n",
    "for ct_cube, pet_cube, lab_cube in zip(n_ct_cubes, n_pet_cubes,n_lab_cubes):\n",
    "    data_tile = []\n",
    "    for axis in range(3):\n",
    "        a=reducePETCube(pet_cube, axis).flatten()\n",
    "        data_tile = np.concatenate([data_tile, a])\n",
    "                \n",
    "    #mk=mk+1\n",
    "    #print()\n",
    "    data_tiles += [data_tile]\n",
    "    data_labels += [reduceLabelCube(lab_cube)]\n",
    "print(len(n_ct_cubes))    "
   ]
  },
  {
   "cell_type": "code",
   "execution_count": 8,
   "metadata": {
    "collapsed": false
   },
   "outputs": [],
   "source": [
    "#result=loaded_model.score\n",
    "#plt.imshow(ct_cubes)\n",
    "#np.shape(ct_cubes)"
   ]
  },
  {
   "cell_type": "code",
   "execution_count": null,
   "metadata": {
    "collapsed": true
   },
   "outputs": [],
   "source": []
  }
 ],
 "metadata": {
  "kernelspec": {
   "display_name": "Python 3",
   "language": "python",
   "name": "python3"
  },
  "language_info": {
   "codemirror_mode": {
    "name": "ipython",
    "version": 3
   },
   "file_extension": ".py",
   "mimetype": "text/x-python",
   "name": "python",
   "nbconvert_exporter": "python",
   "pygments_lexer": "ipython3",
   "version": "3.5.2"
  }
 },
 "nbformat": 4,
 "nbformat_minor": 2
}
