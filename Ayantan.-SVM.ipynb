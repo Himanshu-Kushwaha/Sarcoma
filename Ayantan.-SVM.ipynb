{
 "cells": [
  {
   "cell_type": "code",
   "execution_count": 1,
   "metadata": {
    "collapsed": false
   },
   "outputs": [],
   "source": [
    "import numpy as np\n",
    "import h5py\n",
    "import scipy\n",
    "from scipy.signal import wiener, medfilt\n",
    "import pandas as pd\n",
    "import matplotlib.pyplot as plt\n",
    "from skimage.util.montage import montage2d\n",
    "from skimage.color import label2rgb\n",
    "from imblearn.over_sampling import SMOTE\n",
    "from sklearn import svm\n",
    "import os\n",
    "import pickle\n",
    "%matplotlib inline\n"
   ]
  },
  {
   "cell_type": "code",
   "execution_count": 3,
   "metadata": {
    "collapsed": false
   },
   "outputs": [],
   "source": [
    "#loaded_model = pickle.load(open('finalized_model.sav', 'rb'))"
   ]
  },
  {
   "cell_type": "code",
   "execution_count": 2,
   "metadata": {
    "collapsed": false
   },
   "outputs": [],
   "source": [
    "ct_data, pet_data, label_data = [], [], []\n",
    "num_data = 5\n",
    "with h5py.File(os.path.join('..','input','lab_petct_vox_5.00mm.h5'),'r') as p_data:\n",
    "    for ct_img, pet_img, label in zip(p_data['ct_data'].values(),\n",
    "                                      p_data['pet_data'].values(),\n",
    "                                      p_data['label_data'].values()):\n",
    "        #print(np.shape(ct_img))\n",
    "        #print(len(ct_img))\n",
    "        ct_data += [np.array(ct_img)]\n",
    "        pet_data += [np.array(pet_img)]\n",
    "        label_data += [np.array(label)]\n",
    "        num_data = num_data - 1\n",
    "        if num_data == 0:\n",
    "            break"
   ]
  },
  {
   "cell_type": "markdown",
   "metadata": {},
   "source": [
    "# Dividing Data into 16x16x16 cubes"
   ]
  },
  {
   "cell_type": "code",
   "execution_count": 3,
   "metadata": {
    "collapsed": false
   },
   "outputs": [],
   "source": [
    "ct_cubes, pet_cubes,lab_cubes = [], [], []\n",
    "tile_size=16\n",
    "stride=3\n",
    "for ct_img, pet_img, label in zip(ct_data, pet_data, label_data):\n",
    "    for i in range(0,  ct_img.shape[0], tile_size):\n",
    "        for j in range(0,  ct_img.shape[1], tile_size):\n",
    "            for z in range(0,  ct_img.shape[2], tile_size):\n",
    "                for i_k in range(0, tile_size, stride):\n",
    "                    for j_k in range(0, tile_size, stride):\n",
    "                        for z_k in range(0,tile_size,stride):\n",
    "                            ct_cubes += [ct_img[i+i_k:(i+i_k+tile_size),j+j_k:(j+j_k+tile_size),z+z_k:(z+z_k+tile_size)]]\n",
    "                            pet_cubes += [pet_img[i+i_k:(i+i_k+tile_size),j+j_k:(j+j_k+tile_size),z+z_k:(z+z_k+tile_size)]]\n",
    "                            lab_cubes += [label[i+i_k:(i+i_k+tile_size),j+j_k:(j+j_k+tile_size),z+z_k:(z+z_k+tile_size)]] \n"
   ]
  },
  {
   "cell_type": "code",
   "execution_count": 4,
   "metadata": {
    "collapsed": true
   },
   "outputs": [],
   "source": [
    "# The following functions take a cube and an axis and return a projection of the tile along the axis\n",
    "from sklearn.preprocessing import normalize\n",
    "\n",
    "def reduceCTCube(cube,axis):\n",
    "    return np.sum(cube,axis)\n",
    "    \n",
    "def reducePETCube(cube,axis):\n",
    "    #if(np.sqrt(np.max(cube,axis)==nan)):\n",
    "        #print(mk,axis)\n",
    "    cube_array=np.sqrt(np.max(cube,axis))\n",
    "    where_are_NaNs = np.isnan(cube_array)\n",
    "    #print([where_are_NaNs])\n",
    "    cube_array[where_are_NaNs] = 0.001386386961242742\n",
    "    #return np.sqrt(np.max(cube,axis))\n",
    "    #if np.any(np.isnan(cube_array)):\n",
    "        #print('sad')\n",
    "    return cube_array\n",
    "    \n",
    "def reduceLabelCube(cube):\n",
    "    # write here, returns a single value, not a list/array    \n",
    "    return(np.mean(cube))"
   ]
  },
  {
   "cell_type": "markdown",
   "metadata": {},
   "source": [
    "# Projecting the cube along the 3 axes to get 3\\*16\\*16=768 features"
   ]
  },
  {
   "cell_type": "code",
   "execution_count": null,
   "metadata": {
    "collapsed": false
   },
   "outputs": [
    {
     "name": "stderr",
     "output_type": "stream",
     "text": [
      "C:\\Users\\Himanshu\\Miniconda3\\lib\\site-packages\\ipykernel\\__main__.py:10: RuntimeWarning: invalid value encountered in sqrt\n"
     ]
    }
   ],
   "source": [
    " data_tiles, data_labels = [], []\n",
    "\n",
    "n_ct_cubes = [c_tile for c_tile in ct_cubes if c_tile.shape == (tile_size,tile_size,tile_size)]\n",
    "n_pet_cubes = [c_tile for c_tile in pet_cubes if c_tile.shape == (tile_size,tile_size,tile_size)]\n",
    "n_lab_cubes = [c_tile for c_tile in lab_cubes if c_tile.shape == (tile_size,tile_size,tile_size)]\n",
    "\n",
    "#ct_cube_final, pet_cube_final, lab_cube_final = zip(*[(c_cube, p_cube, l_cube) \n",
    "      #for c_cube, p_cube, l_cube in zip(n_ct_cubes, n_pet_cubes, n_lab_cubes)\n",
    "     #if np.mean(c_cube) > -1001 and np.mean(p_cube) > .0002])\n",
    "#print('%d tiles removed' % (len(n_ct_cubes)-len(ct_cube_final)))\n",
    "\n",
    "#print(len(pet_cube_final))\n",
    "\n",
    "#for ct_cube, pet_cube, lab_cube in zip(ct_cube_final, pet_cube_final,lab_cube_final):\n",
    "#mk=0\n",
    "for ct_cube, pet_cube, lab_cube in zip(n_ct_cubes, n_pet_cubes,n_lab_cubes):\n",
    "    data_tile = []\n",
    "    for axis in range(3):\n",
    "        a=reducePETCube(pet_cube, axis).flatten()\n",
    "        data_tile = np.concatenate([data_tile, a])\n",
    "                \n",
    "    #mk=mk+1\n",
    "    #print()\n",
    "    data_tiles += [data_tile]\n",
    "    data_labels += [reduceLabelCube(lab_cube)]\n",
    "print(len(n_ct_cubes))    \n",
    "print(np.count_nonzero(np.array(data_labels))/float(len(data_labels)))"
   ]
  },
  {
   "cell_type": "markdown",
   "metadata": {},
   "source": [
    "# Dividing into trainig and test set"
   ]
  },
  {
   "cell_type": "code",
   "execution_count": 8,
   "metadata": {
    "collapsed": false
   },
   "outputs": [],
   "source": [
    "lab_class = [c_score > 0 for c_score in data_labels]\n",
    "from sklearn.model_selection import train_test_split\n",
    "train_tiles, test_tile, train_score, test_score = train_test_split(data_tiles, data_labels, \n",
    "                                                                   train_size = 0.8, stratify = lab_class, random_state = 1234)\n",
    "#print(type(train_score))\n",
    "#print(np.array(train_tiles).shape)"
   ]
  },
  {
   "cell_type": "markdown",
   "metadata": {},
   "source": [
    "# Principle Component Analysis"
   ]
  },
  {
   "cell_type": "code",
   "execution_count": 9,
   "metadata": {
    "collapsed": false
   },
   "outputs": [
    {
     "name": "stdout",
     "output_type": "stream",
     "text": [
      "[ 0.79326433  0.05884115  0.03759604  0.01881603  0.01553948]\n"
     ]
    }
   ],
   "source": [
    "def doPCA():\n",
    "    from sklearn.decomposition import PCA\n",
    "    pca = PCA(n_components=5)\n",
    "    pca.fit(train_tiles)\n",
    "    return pca\n",
    "\n",
    "pca = doPCA()\n",
    "print(pca.explained_variance_ratio_)\n",
    "#first_pc = pca.components_[0]\n",
    "\n",
    "pca_train_tiles = pca.transform(train_tiles)\n",
    "pca_test_tiles = pca.transform(test_tile)"
   ]
  },
  {
   "cell_type": "markdown",
   "metadata": {},
   "source": [
    "# Applying SMOTE to generate more positive examples"
   ]
  },
  {
   "cell_type": "code",
   "execution_count": 10,
   "metadata": {
    "collapsed": false
   },
   "outputs": [],
   "source": [
    "sm = SMOTE(kind='svm')\n",
    "train_tiles_resampled, train_score_resampled = sm.fit_sample(np.array(pca_train_tiles), (np.array(train_score)>0).astype(int) )"
   ]
  },
  {
   "cell_type": "code",
   "execution_count": 11,
   "metadata": {
    "collapsed": false
   },
   "outputs": [],
   "source": [
    "#print(np.count_nonzero(np.array(train_score_resampled))/float(train_score_resampled.shape[0]))"
   ]
  },
  {
   "cell_type": "markdown",
   "metadata": {},
   "source": [
    "# Applying SVM (Classifier)"
   ]
  },
  {
   "cell_type": "code",
   "execution_count": 12,
   "metadata": {
    "collapsed": false
   },
   "outputs": [
    {
     "data": {
      "text/plain": [
       "SVC(C=1.0, cache_size=200, class_weight=None, coef0=0.0,\n",
       "  decision_function_shape=None, degree=3, gamma='auto', kernel='linear',\n",
       "  max_iter=-1, probability=False, random_state=None, shrinking=True,\n",
       "  tol=0.001, verbose=False)"
      ]
     },
     "execution_count": 12,
     "metadata": {},
     "output_type": "execute_result"
    }
   ],
   "source": [
    "clf = svm.SVC(kernel='linear', C = 1.0)\n",
    "clf.fit(train_tiles_resampled, np.array(train_score_resampled))"
   ]
  },
  {
   "cell_type": "code",
   "execution_count": 13,
   "metadata": {
    "collapsed": false
   },
   "outputs": [],
   "source": [
    "test_p =clf.predict(pca_test_tiles)"
   ]
  },
  {
   "cell_type": "markdown",
   "metadata": {},
   "source": [
    "# Perfomance on test set- Confusion Matrix"
   ]
  },
  {
   "cell_type": "code",
   "execution_count": 14,
   "metadata": {
    "collapsed": false
   },
   "outputs": [
    {
     "data": {
      "text/plain": [
       "array([[333,  35],\n",
       "       [  4,   3]])"
      ]
     },
     "execution_count": 14,
     "metadata": {},
     "output_type": "execute_result"
    }
   ],
   "source": [
    "#test_predictions = []\n",
    "#test_p = clf.predict(test_t)\n",
    "from sklearn.metrics import confusion_matrix\n",
    "confusion_matrix(np.array(test_score)>0, test_p)"
   ]
  },
  {
   "cell_type": "markdown",
   "metadata": {},
   "source": [
    "# Performance on test set- Graph"
   ]
  },
  {
   "cell_type": "code",
   "execution_count": 17,
   "metadata": {
    "collapsed": false
   },
   "outputs": [
    {
     "data": {
      "text/plain": [
       "(-0.1, 1.1)"
      ]
     },
     "execution_count": 17,
     "metadata": {},
     "output_type": "execute_result"
    },
    {
     "data": {
      "image/png": "[encoded data removed]",
      "text/plain": [
       "<matplotlib.figure.Figure at 0x7f6cd26ff710>"
      ]
     },
     "metadata": {},
     "output_type": "display_data"
    }
   ],
   "source": [
    "fig, ax1 = plt.subplots(1,1)\n",
    "ax1.plot([0,1], [0,1], 'b-', label = 'Ideal Model')\n",
    "ax1.plot(test_score, test_p, 'ro', label = 'Current Results')\n",
    "ax1.set_xlabel('Ground Truth Tumor Score')\n",
    "ax1.legend()\n",
    "ax1.set_ylabel('Predicted Tumor Score')\n",
    "ax1.set_xlim(-0.1,1.1)"
   ]
  },
  {
   "cell_type": "code",
   "execution_count": null,
   "metadata": {
    "collapsed": true
   },
   "outputs": [],
   "source": []
  }
 ],
 "metadata": {
  "kernelspec": {
   "display_name": "Python 3",
   "language": "python",
   "name": "python3"
  },
  "language_info": {
   "codemirror_mode": {
    "name": "ipython",
    "version": 3
   },
   "file_extension": ".py",
   "mimetype": "text/x-python",
   "name": "python",
   "nbconvert_exporter": "python",
   "pygments_lexer": "ipython3",
   "version": "3.5.2"
  }
 },
 "nbformat": 4,
 "nbformat_minor": 2
}
