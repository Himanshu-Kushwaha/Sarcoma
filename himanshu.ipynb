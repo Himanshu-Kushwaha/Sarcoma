{
 "cells": [
  {
   "cell_type": "code",
   "execution_count": 36,
   "metadata": {
    "collapsed": true
   },
   "outputs": [],
   "source": [
    "import numpy as np\n",
    "import h5py\n",
    "import scipy\n",
    "import pandas as pd\n",
    "import matplotlib.pyplot as plt\n",
    "from skimage.util.montage import montage2d\n",
    "from skimage.color import label2rgb\n",
    "import os\n",
    "import cv2\n",
    "%matplotlib inline"
   ]
  },
  {
   "cell_type": "code",
   "execution_count": 47,
   "metadata": {
    "collapsed": true
   },
   "outputs": [],
   "source": [
    "def tiles(ct, pet, lab):\n",
    "    ct_tiles = []\n",
    "    pet_tiles = []\n",
    "    lab_tiles = []\n",
    "    tile_size=16\n",
    "    stride=3\n",
    "    z=2\n",
    "    for ct_img, pet_img, label in zip(ct, pet, lab):\n",
    "        for i in range(0,  ct_img.shape[0], tile_size):\n",
    "            for j in range(0,  ct_img.shape[1], tile_size):\n",
    "                for z in range(0,  ct_img.shape[2], tile_size):\n",
    "                     for i_k in range(0, tile_size, stride):\n",
    "                        for j_k in range(0, tile_size, stride):\n",
    "                            for z_k in range(0,tile_size,stride):\n",
    "                                ct_tiles += [ct_img[i+i_k:(i+i_k+tile_size),j+j_k:(j+j_k+tile_size),z+z_k:(z+z_k+tile_size)]]\n",
    "                                pet_tiles += [pet_img[i+i_k:(i+i_k+tile_size),j+j_k:(j+j_k+tile_size),z+z_k:(z+z_k+tile_size)]]\n",
    "                                lab_tiles += [label[i+i_k:(i+i_k+tile_size),j+j_k:(j+j_k+tile_size),z+z_k:(z+z_k+tile_size)]] \n",
    "    return(ct_tiles,pet_tiles,lab_tiles)    "
   ]
  },
  {
   "cell_type": "code",
   "execution_count": 48,
   "metadata": {
    "collapsed": true
   },
   "outputs": [],
   "source": [
    "def append_data(ct_data,pet_data,lab_data,ct,pet,lab,axis):\n",
    "    for ct_img, pet_img, lab_img in (zip(ct_data,pet_data,lab_data)):\n",
    "        ct.append(np.sum(ct_img,axis))\n",
    "        pet.append(np.sum(pet_img,axis))\n",
    "        lab.append(np.sum(lab_img,axis))\n",
    "        return(ct,pet,lab)"
   ]
  },
  {
   "cell_type": "code",
   "execution_count": 53,
   "metadata": {
    "collapsed": false,
    "scrolled": false
   },
   "outputs": [
    {
     "ename": "TypeError",
     "evalue": "append_data() missing 2 required positional arguments: 'lab' and 'axis'",
     "output_type": "error",
     "traceback": [
      "\u001b[0;31m---------------------------------------------------------------------------\u001b[0m",
      "\u001b[0;31mTypeError\u001b[0m                                 Traceback (most recent call last)",
      "\u001b[0;32m<ipython-input-53-9808f0c307de>\u001b[0m in \u001b[0;36m<module>\u001b[0;34m()\u001b[0m\n\u001b[1;32m      9\u001b[0m     \u001b[0mdata\u001b[0m\u001b[1;33m=\u001b[0m\u001b[0mp_data\u001b[0m\u001b[1;33m[\u001b[0m\u001b[1;34m'ct_data'\u001b[0m\u001b[1;33m]\u001b[0m\u001b[1;33m.\u001b[0m\u001b[0mvalues\u001b[0m\u001b[1;33m(\u001b[0m\u001b[1;33m)\u001b[0m\u001b[1;33m,\u001b[0m \u001b[0mp_data\u001b[0m\u001b[1;33m[\u001b[0m\u001b[1;34m'pet_data'\u001b[0m\u001b[1;33m]\u001b[0m\u001b[1;33m.\u001b[0m\u001b[0mvalues\u001b[0m\u001b[1;33m(\u001b[0m\u001b[1;33m)\u001b[0m\u001b[1;33m,\u001b[0m \u001b[0mp_data\u001b[0m\u001b[1;33m[\u001b[0m\u001b[1;34m'label_data'\u001b[0m\u001b[1;33m]\u001b[0m\u001b[1;33m.\u001b[0m\u001b[0mvalues\u001b[0m\u001b[1;33m(\u001b[0m\u001b[1;33m)\u001b[0m\u001b[1;33m\u001b[0m\u001b[0m\n\u001b[1;32m     10\u001b[0m \u001b[1;33m\u001b[0m\u001b[0m\n\u001b[0;32m---> 11\u001b[0;31m     \u001b[0mct30\u001b[0m\u001b[1;33m,\u001b[0m\u001b[0mpet30\u001b[0m\u001b[1;33m,\u001b[0m\u001b[0mlab30\u001b[0m\u001b[1;33m=\u001b[0m\u001b[0mappend_data\u001b[0m\u001b[1;33m(\u001b[0m\u001b[0mdata\u001b[0m\u001b[1;33m,\u001b[0m\u001b[0mct30\u001b[0m\u001b[1;33m,\u001b[0m\u001b[0mpet30\u001b[0m\u001b[1;33m,\u001b[0m\u001b[0mlab30\u001b[0m\u001b[1;33m,\u001b[0m\u001b[1;36m0\u001b[0m\u001b[1;33m)\u001b[0m\u001b[1;33m\u001b[0m\u001b[0m\n\u001b[0m\u001b[1;32m     12\u001b[0m     \u001b[0mct31\u001b[0m\u001b[1;33m,\u001b[0m\u001b[0mpet31\u001b[0m\u001b[1;33m,\u001b[0m\u001b[0mlab31\u001b[0m\u001b[1;33m=\u001b[0m\u001b[0mappend_data\u001b[0m\u001b[1;33m(\u001b[0m\u001b[0mdata\u001b[0m\u001b[1;33m,\u001b[0m\u001b[0mct31\u001b[0m\u001b[1;33m,\u001b[0m\u001b[0mpet31\u001b[0m\u001b[1;33m,\u001b[0m\u001b[0mlab31\u001b[0m\u001b[1;33m,\u001b[0m\u001b[1;36m1\u001b[0m\u001b[1;33m)\u001b[0m\u001b[1;33m\u001b[0m\u001b[0m\n\u001b[1;32m     13\u001b[0m     \u001b[0mct32\u001b[0m\u001b[1;33m,\u001b[0m\u001b[0mpet32\u001b[0m\u001b[1;33m,\u001b[0m\u001b[0mlab32\u001b[0m\u001b[1;33m=\u001b[0m\u001b[0mappend_data\u001b[0m\u001b[1;33m(\u001b[0m\u001b[0mdata\u001b[0m\u001b[1;33m,\u001b[0m\u001b[0mct32\u001b[0m\u001b[1;33m,\u001b[0m\u001b[0mpet32\u001b[0m\u001b[1;33m,\u001b[0m\u001b[0mlab32\u001b[0m\u001b[1;33m,\u001b[0m\u001b[1;36m2\u001b[0m\u001b[1;33m)\u001b[0m\u001b[1;33m\u001b[0m\u001b[0m\n",
      "\u001b[0;31mTypeError\u001b[0m: append_data() missing 2 required positional arguments: 'lab' and 'axis'"
     ]
    }
   ],
   "source": [
    "ct_tiles0,pet_tiles0,lab_tiles0= [], [], []\n",
    "ct_tiles1,pet_tiles1,lab_tiles1= [], [], []\n",
    "ct_tiles2,pet_tiles2,lab_tiles2= [], [], []\n",
    "ct_data, pet_data, label_data = [], [], []\n",
    "ct31,pet31,lab31= [], [], []\n",
    "ct30,pet30,lab30= [], [], []\n",
    "ct32,pet32,lab32=[],[],[]\n",
    "with h5py.File(os.path.join('..','input','lab_petct_vox_5.00mm.h5'),'r') as p_data:\n",
    "    \n",
    "    ct30,pet30,lab30=append_data(p_data['ct_data'].values(), p_data['pet_data'].values(), p_data['label_data'].values(),ct30,pet30,lab30,0)\n",
    "    ct31,pet31,lab31=append_data(p_data['ct_data'].values(), p_data['pet_data'].values(), p_data['label_data'].values(),ct31,pet31,lab31,1)\n",
    "    ct32,pet32,lab32=append_data(p_data['ct_data'].values(), p_data['pet_data'].values(), p_data['label_data'].values(),ct32,pet32,lab32,2)\n",
    "    \n",
    "ct_tiles0,pet_tiles0,lab_tiles0=tiles(ct30,pet30,lab30)\n",
    "ct_tiles1,pet_tiles1,lab_tiles1=tiles(ct31,pet31,lab31)\n",
    "ct_tiles2,pet_tiles2,lab_tiles2=tiles(ct32,pet32,lab32)\n",
    "   \n",
    "print(np.shape(ct_tiles))\n",
    "l=len(ct_tiles1)-2772\n",
    "#print(np.shape(ct_tiles))\n",
    "#print('ct tiles',ct_tiles[0:5:1])"
   ]
  },
  {
   "cell_type": "code",
   "execution_count": null,
   "metadata": {
    "collapsed": true
   },
   "outputs": [],
   "source": []
  },
  {
   "cell_type": "code",
   "execution_count": 3,
   "metadata": {
    "collapsed": false
   },
   "outputs": [],
   "source": [
    "#def img_hist(img, plot=False):\n",
    "    hist,bins = np.histogram(img.flatten(),256,[0,256])\n",
    "    cdf = hist.cumsum()\n",
    "    cdf_normalized = cdf * hist.max()/ cdf.max()\n",
    "    if plot:\n",
    "        plt.plot(cdf_normalized, color = 'b')\n",
    "        plt.hist(img.flatten(),256,[0,256], color = 'r')\n",
    "        plt.xlim([0,256])\n",
    "        plt.legend(('cdf','histogram'), loc = 'upper left')\n",
    "        plt.show()\n",
    "    return hist, cdf\n",
    "   \n"
   ]
  },
  {
   "cell_type": "code",
   "execution_count": 4,
   "metadata": {
    "collapsed": true
   },
   "outputs": [],
   "source": [
    "#def hist_eq(img, plot=False, cmap = 'bone'):\n",
    "    _, cdf = img_hist(img,plot=True)\n",
    "    cdf_m = np.ma.masked_equal(cdf,0)\n",
    "    cdf_m = (cdf_m - cdf_m.min())*255/(cdf_m.max()-cdf_m.min())\n",
    "    cdf = np.ma.filled(cdf_m,0).astype('uint8')\n",
    "    eq_image = cdf[img]\n",
    "    if plot:\n",
    "        plt.imshow(cdf[img], cmap=cmap)\n",
    "        plt.show()\n",
    "    return eq_image"
   ]
  },
  {
   "cell_type": "code",
   "execution_count": 34,
   "metadata": {
    "collapsed": false
   },
   "outputs": [],
   "source": [
    "#ct_tiles = []\n",
    "pet_tiles = []\n",
    "lab_tiles = []\n",
    "tile_size=16\n",
    "stride=3\n",
    "for ct_img, pet_img, label in zip(ct_data, pet_data, label_data):\n",
    "    for i in range(0,  ct_img.shape[0], tile_size):\n",
    "        for j in range(0,  ct_img.shape[1], tile_size):\n",
    "            for i_k in range(0, tile_size, stride):\n",
    "                c=0\n",
    "                for j_k in range(0, tile_size, stride):\n",
    "                    c=c+1\n",
    "                    ct_tiles += [ct_img[i+i_k:(i+i_k+tile_size),j+j_k:(j+j_k+tile_size)]]\n",
    "                    pet_tiles += [pet_img[i+i_k:(i+i_k+tile_size),j+j_k:(j+j_k+tile_size)]]\n",
    "                    lab_tiles += [label[i+i_k:(i+i_k+tile_size),j+j_k:(j+j_k+tile_size)]]\n",
    "l=len(ct_tiles) -2772\n"
   ]
  },
  {
   "cell_type": "code",
   "execution_count": 22,
   "metadata": {
    "collapsed": false
   },
   "outputs": [
    {
     "name": "stdout",
     "output_type": "stream",
     "text": [
      "(61440, 16, 16, 16)\n",
      "hiiii "
     ]
    }
   ],
   "source": [
    "n_ct_tiles = [c_tile for c_tile in ct_tiles0[:l] if c_tile.shape == (tile_size,tile_size,tile_size)]\n",
    "n_pet_tiles = [c_tile for c_tile in pet_tiles0[:l] if c_tile.shape == (tile_size,tile_size,tile_size)]\n",
    "n_lab_tiles = [c_tile for c_tile in lab_tiles0[:l] if c_tile.shape == (tile_size,tile_size,tile_size)]\n",
    "\n",
    "n_ct_tiles2 = [c_tile for c_tile in ct_tiles0[l:] ]#if c_tile.shape == (tile_size,tile_size,tile_size)]\n",
    "n_pet_tiles2 = [c_tile for c_tile in pet_tiles0[l:] if c_tile.shape == (tile_size,tile_size,tile_size)]\n",
    "n_lab_tiles2 = [c_tile for c_tile in lab_tiles0[l:] if c_tile.shape == (tile_size,tile_size,tile_size)]\n",
    "#fig, (ax1, ax2, ax3,ax4,ax5,ax6) = plt.subplots(1,6, figsize=(50,50))\n",
    "#ax1.imshow(montage2d(np.stack(n_ct_tiles,0)), cmap = 'bone')\n",
    "#ax2.imshow(montage2d(np.stack(n_pet_tiles,0)), cmap = 'bone')\n",
    "#ax3.imshow(montage2d(np.stack(n_lab_tiles,0)), cmap = 'gist_earth')\n",
    "#ax4.imshow(montage2d(np.stack(n_ct_tiles2,0)), cmap = 'bone')\n",
    "#ax5.imshow(montage2d(np.stack(n_pet_tiles2,0)), cmap = 'bone')\n",
    "#ax6.imshow(montage2d(np.stack(n_lab_tiles2,0)), cmap = 'gist_earth')\n",
    "#print(ct_tiles)\n",
    "print(np.shape(n_lab_tiles))\n",
    "print(\"hiiii\",n_ct_tiles,'hiiiiiii33333')"
   ]
  },
  {
   "cell_type": "code",
   "execution_count": 28,
   "metadata": {
    "collapsed": false,
    "scrolled": false
   },
   "outputs": [],
   "source": [
    "lab_score = [np.mean(c_tile) for c_tile in n_lab_tiles]\n",
    "lab_score2 = [np.mean(c_tile) for c_tile in n_lab_tiles2]\n",
    "ct_tile_flat = [c_tile.flatten() for c_tile in n_ct_tiles]\n",
    "ct_tile_flat2 = [c_tile.flatten() for c_tile in n_ct_tiles2]\n",
    "pet_tile_flat = [c_tile.flatten() for c_tile in n_pet_tiles]\n",
    "pet_tile_flat2 = [c_tile.flatten() for c_tile in n_pet_tiles2]\n",
    "lab_class = [c_score > 0 for c_score in lab_score]\n",
    "lab_class = [c_score > 0 for c_score in lab_score2]\n",
    "#print(np.shape(n_lab_tiles))\n",
    "#print(n_lab_tiles)\n",
    "#print(lab_score)\n"
   ]
  },
  {
   "cell_type": "code",
   "execution_count": 29,
   "metadata": {
    "collapsed": false,
    "scrolled": true
   },
   "outputs": [
    {
     "name": "stdout",
     "output_type": "stream",
     "text": [
      "Training size (100, 4096) Testing size (100, 4096)\n",
      "Train tumor tiles (array([], dtype=int64),) Test tumor tiles (array([], dtype=int64),)\n"
     ]
    }
   ],
   "source": [
    "train_tiles, test_tile, train_score, test_score = np.stack(pet_tile_flat), np.stack(pet_tile_flat2), lab_score, lab_score2\n",
    "print('Training size', train_tiles.shape, 'Testing size', test_tile.shape)\n",
    "print('Train tumor tiles', np.where(train_score), 'Test tumor tiles', np.where(test_score))"
   ]
  },
  {
   "cell_type": "code",
   "execution_count": 30,
   "metadata": {
    "collapsed": false
   },
   "outputs": [],
   "source": [
    "from sklearn.neighbors import KNeighborsRegressor\n",
    "knn1_model = KNeighborsRegressor(2, algorithm = 'kd_tree')"
   ]
  },
  {
   "cell_type": "code",
   "execution_count": 31,
   "metadata": {
    "collapsed": false
   },
   "outputs": [
    {
     "data": {
      "text/plain": [
       "(4096,)"
      ]
     },
     "execution_count": 31,
     "metadata": {},
     "output_type": "execute_result"
    }
   ],
   "source": [
    "train_tiles[3].shape"
   ]
  },
  {
   "cell_type": "code",
   "execution_count": 32,
   "metadata": {
    "collapsed": false
   },
   "outputs": [
    {
     "data": {
      "text/plain": [
       "KNeighborsRegressor(algorithm='kd_tree', leaf_size=30, metric='minkowski',\n",
       "          metric_params=None, n_jobs=1, n_neighbors=2, p=2,\n",
       "          weights='uniform')"
      ]
     },
     "execution_count": 32,
     "metadata": {},
     "output_type": "execute_result"
    }
   ],
   "source": [
    "knn1_model.fit(train_tiles, train_score)"
   ]
  },
  {
   "cell_type": "code",
   "execution_count": 36,
   "metadata": {
    "collapsed": false,
    "scrolled": false
   },
   "outputs": [
    {
     "name": "stdout",
     "output_type": "stream",
     "text": [
      "(100, 2)\n"
     ]
    },
    {
     "ename": "ValueError",
     "evalue": "cannot reshape array of size 4096 into shape (10,10)",
     "output_type": "error",
     "traceback": [
      "\u001b[0;31m---------------------------------------------------------------------------\u001b[0m",
      "\u001b[0;31mValueError\u001b[0m                                Traceback (most recent call last)",
      "\u001b[0;32m<ipython-input-36-0bc44ec3f8f2>\u001b[0m in \u001b[0;36m<module>\u001b[0;34m()\u001b[0m\n\u001b[1;32m     11\u001b[0m \u001b[1;31m#plt.plot([1,2,3,4],[3,6,5,2],[1,3,5,6])\u001b[0m\u001b[1;33m\u001b[0m\u001b[1;33m\u001b[0m\u001b[0m\n\u001b[1;32m     12\u001b[0m \u001b[1;31m#plt.plot(knn1_model.kneighbors(np.array(test_tile),2),return_distance=False)\u001b[0m\u001b[1;33m\u001b[0m\u001b[1;33m\u001b[0m\u001b[0m\n\u001b[0;32m---> 13\u001b[0;31m \u001b[0mn1\u001b[0m\u001b[1;33m=\u001b[0m\u001b[0mtrain_tiles\u001b[0m\u001b[1;33m[\u001b[0m\u001b[0mtt\u001b[0m\u001b[1;33m[\u001b[0m\u001b[1;36m83\u001b[0m\u001b[1;33m]\u001b[0m\u001b[1;33m[\u001b[0m\u001b[1;36m0\u001b[0m\u001b[1;33m]\u001b[0m\u001b[1;33m]\u001b[0m\u001b[1;33m.\u001b[0m\u001b[0mreshape\u001b[0m\u001b[1;33m(\u001b[0m\u001b[1;33m(\u001b[0m\u001b[1;36m10\u001b[0m\u001b[1;33m,\u001b[0m\u001b[1;36m10\u001b[0m\u001b[1;33m)\u001b[0m\u001b[1;33m)\u001b[0m\u001b[1;33m\u001b[0m\u001b[0m\n\u001b[0m\u001b[1;32m     14\u001b[0m \u001b[0mn2\u001b[0m\u001b[1;33m=\u001b[0m\u001b[0mtrain_tiles\u001b[0m\u001b[1;33m[\u001b[0m\u001b[0mtt\u001b[0m\u001b[1;33m[\u001b[0m\u001b[1;36m83\u001b[0m\u001b[1;33m]\u001b[0m\u001b[1;33m[\u001b[0m\u001b[1;36m1\u001b[0m\u001b[1;33m]\u001b[0m\u001b[1;33m]\u001b[0m\u001b[1;33m.\u001b[0m\u001b[0mreshape\u001b[0m\u001b[1;33m(\u001b[0m\u001b[1;33m(\u001b[0m\u001b[1;36m10\u001b[0m\u001b[1;33m,\u001b[0m\u001b[1;36m10\u001b[0m\u001b[1;33m)\u001b[0m\u001b[1;33m)\u001b[0m\u001b[1;33m\u001b[0m\u001b[0m\n\u001b[1;32m     15\u001b[0m \u001b[0mn1_score\u001b[0m \u001b[1;33m=\u001b[0m \u001b[0mtrain_score\u001b[0m\u001b[1;33m[\u001b[0m\u001b[0mtt\u001b[0m\u001b[1;33m[\u001b[0m\u001b[1;36m83\u001b[0m\u001b[1;33m]\u001b[0m\u001b[1;33m[\u001b[0m\u001b[1;36m0\u001b[0m\u001b[1;33m]\u001b[0m\u001b[1;33m]\u001b[0m\u001b[1;33m\u001b[0m\u001b[0m\n",
      "\u001b[0;31mValueError\u001b[0m: cannot reshape array of size 4096 into shape (10,10)"
     ]
    }
   ],
   "source": [
    "test_predictions = knn1_model.predict(test_tile)\n",
    "\n",
    "#print('Predicted Results', test_predictions)\n",
    "#print(np.array(train_score)[np.where(np.array(train_score)>5)])\n",
    "#print(knn1_model.kneighbors(np.array(test_tile),2))\n",
    "#for i in range(10):\n",
    "tt = knn1_model.kneighbors(np.array(test_tile),2,return_distance=False)\n",
    "#plt.plot(tt)\n",
    "#plt.show()\n",
    "print(np.shape(tt))\n",
    "#plt.plot([1,2,3,4],[3,6,5,2],[1,3,5,6])\n",
    "#plt.plot(knn1_model.kneighbors(np.array(test_tile),2),return_distance=False)\n",
    "n1=train_tiles[tt[83][0]].reshape((10,10))\n",
    "n2=train_tiles[tt[83][1]].reshape((10,10))\n",
    "n1_score = train_score[tt[83][0]]\n",
    "n2_score = train_score[tt[83][1]]\n",
    "fig, (ax1, ax2, ax3) = plt.subplots(1,3, figsize=(50,50))\n",
    "ax1.imshow(test_tile[83].reshape((10,10)), cmap = 'bone')\n",
    "ax1.set_title('predicted: ' + str((n1_score+n2_score)/2) + ',  actual_value: ' + str(test_score[83]))\n",
    "ax2.imshow(n1, cmap = 'bone')\n",
    "ax2.set_title(str(n1_score))\n",
    "ax3.imshow(n2, cmap = 'bone')\n",
    "ax3.set_title(str(n2_score))\n",
    "plt.show()\n",
    " \n",
    "aa=np.array(test_score) - np.array(test_predictions) !=0\n",
    "print(np.where(aa))\n",
    "\n",
    "    "
   ]
  },
  {
   "cell_type": "code",
   "execution_count": 11,
   "metadata": {
    "collapsed": false
   },
   "outputs": [
    {
     "data": {
      "text/plain": [
       "array([[1743,   32],\n",
       "       [ 132,   13]])"
      ]
     },
     "execution_count": 11,
     "metadata": {},
     "output_type": "execute_result"
    }
   ],
   "source": [
    "from sklearn.metrics import confusion_matrix\n",
    "confusion_matrix(np.array(test_score)>0, np.array(test_predictions)>0)"
   ]
  },
  {
   "cell_type": "code",
   "execution_count": 12,
   "metadata": {
    "collapsed": false,
    "scrolled": true
   },
   "outputs": [
    {
     "data": {
      "text/plain": [
       "(-0.1, 1.1)"
      ]
     },
     "execution_count": 12,
     "metadata": {},
     "output_type": "execute_result"
    },
    {
     "data": {
      "image/png": "[encoded data removed]",
      "text/plain": [
       "<matplotlib.figure.Figure at 0x1e249c12128>"
      ]
     },
     "metadata": {},
     "output_type": "display_data"
    }
   ],
   "source": [
    "fig, ax1 = plt.subplots(1,1)\n",
    "ax1.plot([0,1], [0,1], 'b-', label = 'Ideal Model')\n",
    "ax1.plot(test_score, test_predictions, 'ro', label = 'Current Results')\n",
    "ax1.set_xlabel('Ground Truth Tumor Score')\n",
    "ax1.legend()\n",
    "ax1.set_ylabel('Predicted Tumor Score')\n",
    "ax1.set_xlim(-0.1,1.1)"
   ]
  },
  {
   "cell_type": "code",
   "execution_count": null,
   "metadata": {
    "collapsed": true
   },
   "outputs": [],
   "source": []
  }
 ],
 "metadata": {
  "kernelspec": {
   "display_name": "Python 3",
   "language": "python",
   "name": "python3"
  },
  "language_info": {
   "codemirror_mode": {
    "name": "ipython",
    "version": 3
   },
   "file_extension": ".py",
   "mimetype": "text/x-python",
   "name": "python",
   "nbconvert_exporter": "python",
   "pygments_lexer": "ipython3",
   "version": "3.5.2"
  }
 },
 "nbformat": 4,
 "nbformat_minor": 2
}
