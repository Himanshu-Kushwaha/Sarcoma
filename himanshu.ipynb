{
 "cells": [
  {
   "cell_type": "code",
   "execution_count": 67,
   "metadata": {
    "collapsed": false
   },
   "outputs": [],
   "source": [
    "import numpy as np\n",
    "import h5py\n",
    "import scipy\n",
    "from scipy.signal import wiener, medfilt\n",
    "import pandas as pd\n",
    "import matplotlib.pyplot as plt\n",
    "from skimage.util.montage import montage2d\n",
    "from skimage.color import label2rgb\n",
    "import os\n",
    "%matplotlib inline\n"
   ]
  },
  {
   "cell_type": "code",
   "execution_count": 68,
   "metadata": {
    "collapsed": false,
    "scrolled": false
   },
   "outputs": [],
   "source": [
    "ct_data, pet_data, label_data = [], [], []\n",
    "num_data = 2\n",
    "with h5py.File(os.path.join('..','input','lab_petct_vox_5.00mm.h5'),'r') as p_data:\n",
    "    for ct_img, pet_img, label in zip(p_data['ct_data'].values(),\n",
    "                                      p_data['pet_data'].values(),\n",
    "                                      p_data['label_data'].values()):\n",
    "        ct_data += [np.array(ct_img)]\n",
    "        pet_data += [np.array(pet_img)]\n",
    "        label_data += [np.array(label)]\n",
    "        num_data = num_data - 1\n",
    "        if num_data == 0:\n",
    "            break"
   ]
  },
  {
   "cell_type": "code",
   "execution_count": 69,
   "metadata": {
    "collapsed": false
   },
   "outputs": [],
   "source": [
    "#len(ct_data)\n",
    "#vmin, vmax = stats.scoreatpercentile(ct_data[0], (0.5, 99.5))\n",
    "#a = np.clip(ct_data[0], vmin, vmax)\n",
    "#a = (a - vmin) / (vmax - vmin)\n",
    "#plt.imshow(a[:,50,:][::-1,:],cmap='gray')"
   ]
  },
  {
   "cell_type": "code",
   "execution_count": 70,
   "metadata": {
    "collapsed": false
   },
   "outputs": [],
   "source": [
    "#from skimage import restoration\n",
    "#bilateral = restoration.denoise_bilateral(a)"
   ]
  },
  {
   "cell_type": "code",
   "execution_count": 71,
   "metadata": {
    "collapsed": false
   },
   "outputs": [],
   "source": [
    "ct_cubes, pet_cubes,lab_cubes = [], [], []\n",
    "tile_size=16\n",
    "stride=3\n",
    "for ct_img, pet_img, label in zip(ct_data, pet_data, label_data):\n",
    "    for i in range(0,  ct_img.shape[0], tile_size):\n",
    "        for j in range(0,  ct_img.shape[1], tile_size):\n",
    "            for z in range(0,  ct_img.shape[2], tile_size):\n",
    "                for i_k in range(0, tile_size, stride):\n",
    "                    for j_k in range(0, tile_size, stride):\n",
    "                        for z_k in range(0,tile_size,stride):\n",
    "                            ct_cubes += [ct_img[i+i_k:(i+i_k+tile_size),j+j_k:(j+j_k+tile_size),z+z_k:(z+z_k+tile_size)]]\n",
    "                            pet_cubes += [pet_img[i+i_k:(i+i_k+tile_size),j+j_k:(j+j_k+tile_size),z+z_k:(z+z_k+tile_size)]]\n",
    "                            lab_cubes += [label[i+i_k:(i+i_k+tile_size),j+j_k:(j+j_k+tile_size),z+z_k:(z+z_k+tile_size)]] "
   ]
  },
  {
   "cell_type": "code",
   "execution_count": 72,
   "metadata": {
    "collapsed": false
   },
   "outputs": [],
   "source": [
    "# The following functions take a cube and an axis and return a projection of the tile along the axis\n",
    "from sklearn.preprocessing import normalize\n",
    "\n",
    "def reduceCTCube(cube,axis):\n",
    "    return np.sum(cube,axis)\n",
    "    \n",
    "def reducePETCube(cube,axis):\n",
    "    #if(np.sqrt(np.max(cube,axis)==nan)):\n",
    "        #print(mk,axis)\n",
    "    cube_array=np.sqrt(np.max(cube,axis))\n",
    "    where_are_NaNs = np.isnan(cube_array)\n",
    "    #print([where_are_NaNs])\n",
    "    cube_array[where_are_NaNs] = 0.001386386961242742\n",
    "    #return np.sqrt(np.max(cube,axis))\n",
    "    #if np.any(np.isnan(cube_array)):\n",
    "        #print('sad')\n",
    "    return cube_array\n",
    "    \n",
    "def reduceLabelCube(cube):\n",
    "    # write here, returns a single value, not a list/array    \n",
    "    return(np.mean(cube))\n",
    "        \n",
    "        \n",
    "    \n"
   ]
  },
  {
   "cell_type": "code",
   "execution_count": 73,
   "metadata": {
    "collapsed": false,
    "scrolled": true
   },
   "outputs": [],
   "source": [
    "#print(data_tiles[0])\n",
    "#print(normalize(data_tiles[0][:,np.newaxis], axis=0).ravel())"
   ]
  },
  {
   "cell_type": "code",
   "execution_count": 74,
   "metadata": {
    "collapsed": false
   },
   "outputs": [
    {
     "name": "stderr",
     "output_type": "stream",
     "text": [
      "C:\\Users\\Himanshu\\Miniconda3\\lib\\site-packages\\ipykernel\\__main__.py:10: RuntimeWarning: invalid value encountered in sqrt\n"
     ]
    }
   ],
   "source": [
    "data_tiles, data_labels = [], []\n",
    "\n",
    "n_ct_cubes = [c_tile for c_tile in ct_cubes if c_tile.shape == (tile_size,tile_size,tile_size)]\n",
    "n_pet_cubes = [c_tile for c_tile in pet_cubes if c_tile.shape == (tile_size,tile_size,tile_size)]\n",
    "n_lab_cubes = [c_tile for c_tile in lab_cubes if c_tile.shape == (tile_size,tile_size,tile_size)]\n",
    "\n",
    "#ct_cube_final, pet_cube_final, lab_cube_final = zip(*[(c_cube, p_cube, l_cube) \n",
    "      #for c_cube, p_cube, l_cube in zip(n_ct_cubes, n_pet_cubes, n_lab_cubes)\n",
    "     #if np.mean(c_cube) > -1001 and np.mean(p_cube) > .0002])\n",
    "#print('%d tiles removed' % (len(n_ct_cubes)-len(ct_cube_final)))\n",
    "\n",
    "#print(len(pet_cube_final))\n",
    "\n",
    "#for ct_cube, pet_cube, lab_cube in zip(ct_cube_final, pet_cube_final,lab_cube_final):\n",
    "#mk=0\n",
    "for ct_cube, pet_cube, lab_cube in zip(n_ct_cubes, n_pet_cubes,n_lab_cubes):\n",
    "    data_tile = []\n",
    "    for axis in range(3):\n",
    "        a=reducePETCube(pet_cube, axis).flatten()\n",
    "        data_tile = np.concatenate([data_tile, a])\n",
    "                \n",
    "    #mk=mk+1\n",
    "    #print()\n",
    "    data_tiles += [data_tile]\n",
    "    data_labels += [reduceLabelCube(lab_cube)]\n",
    "    "
   ]
  },
  {
   "cell_type": "code",
   "execution_count": 75,
   "metadata": {
    "collapsed": false
   },
   "outputs": [
    {
     "name": "stdout",
     "output_type": "stream",
     "text": [
      "768\n"
     ]
    }
   ],
   "source": [
    "print(len(data_tiles[0]))"
   ]
  },
  {
   "cell_type": "code",
   "execution_count": 76,
   "metadata": {
    "collapsed": false
   },
   "outputs": [],
   "source": [
    "lab_class = [c_score > 0 for c_score in data_labels]\n",
    "from sklearn.model_selection import train_test_split\n",
    "train_tiles, test_tile, train_score, test_score = train_test_split(data_tiles, data_labels, \n",
    "                                                                   train_size = 0.8, stratify = lab_class, random_state = 1234)\n",
    "#print('Training size', train_tiles.shape, 'Testing size', test_tile.shape)\n",
    "#print('Train tumor tiles', np.where(train_score), 'Test tumor tiles', np.where(test_score))"
   ]
  },
  {
   "cell_type": "code",
   "execution_count": 77,
   "metadata": {
    "collapsed": false
   },
   "outputs": [],
   "source": [
    "from sklearn.neighbors import KNeighborsRegressor\n",
    "knn1_model = KNeighborsRegressor(1, algorithm = 'brute',n_jobs=4)"
   ]
  },
  {
   "cell_type": "code",
   "execution_count": 78,
   "metadata": {
    "collapsed": false
   },
   "outputs": [
    {
     "data": {
      "text/plain": [
       "KNeighborsRegressor(algorithm='brute', leaf_size=30, metric='minkowski',\n",
       "          metric_params=None, n_jobs=4, n_neighbors=1, p=2,\n",
       "          weights='uniform')"
      ]
     },
     "execution_count": 78,
     "metadata": {},
     "output_type": "execute_result"
    }
   ],
   "source": [
    "knn1_model.fit(train_tiles, train_score)"
   ]
  },
  {
   "cell_type": "code",
   "execution_count": 79,
   "metadata": {
    "collapsed": false
   },
   "outputs": [
    {
     "name": "stdout",
     "output_type": "stream",
     "text": [
      "24576\n",
      "1000\n",
      "2000\n",
      "3000\n",
      "4000\n",
      "5000\n",
      "6000\n",
      "7000\n",
      "8000\n",
      "9000\n",
      "10000\n",
      "11000\n",
      "12000\n",
      "13000\n",
      "14000\n",
      "15000\n",
      "16000\n",
      "17000\n",
      "18000\n",
      "19000\n",
      "20000\n",
      "21000\n",
      "22000\n",
      "23000\n",
      "24000\n",
      "25000\n"
     ]
    }
   ],
   "source": [
    "n = 1000\n",
    "i = 0\n",
    "print(len(test_tile))\n",
    "test_predictions = []\n",
    "while(True):\n",
    "    test_t = test_tile[i:i+n]\n",
    "    i += n\n",
    "    print(i)\n",
    "    test_p = knn1_model.predict(test_t)\n",
    "    test_predictions.append(test_p) \n",
    "    if( i > len(test_tile)):\n",
    "        break\n",
    "    "
   ]
  },
  {
   "cell_type": "code",
   "execution_count": 80,
   "metadata": {
    "collapsed": false
   },
   "outputs": [],
   "source": [
    "test_predictions = np.concatenate(test_predictions) \n",
    "n = test_predictions.shape[0]"
   ]
  },
  {
   "cell_type": "code",
   "execution_count": 81,
   "metadata": {
    "collapsed": false
   },
   "outputs": [
    {
     "data": {
      "text/plain": [
       "array([[24243,    14],\n",
       "       [   26,   293]])"
      ]
     },
     "execution_count": 81,
     "metadata": {},
     "output_type": "execute_result"
    }
   ],
   "source": [
    "from sklearn.metrics import confusion_matrix\n",
    "confusion_matrix(np.array(test_score[:n])>0, np.array(test_predictions)>0)"
   ]
  },
  {
   "cell_type": "code",
   "execution_count": 83,
   "metadata": {
    "collapsed": false
   },
   "outputs": [],
   "source": [
    "#if(np.array(test_score)!=np.array(test_predictions)):\n",
    " #   print('hiii',test_score,'hi')\n",
    "#print(np.greater(test_score,0))"
   ]
  },
  {
   "cell_type": "code",
   "execution_count": 84,
   "metadata": {
    "collapsed": false,
    "scrolled": true
   },
   "outputs": [
    {
     "data": {
      "text/plain": [
       "(-0.1, 1.1)"
      ]
     },
     "execution_count": 84,
     "metadata": {},
     "output_type": "execute_result"
    },
    {
     "data": {
      "image/png": "[encoded data removed]",
      "text/plain": [
       "<matplotlib.figure.Figure at 0x18083321a58>"
      ]
     },
     "metadata": {},
     "output_type": "display_data"
    }
   ],
   "source": [
    "fig, ax1 = plt.subplots(1,1)\n",
    "ax1.plot([0,1], [0,1], 'b-', label = 'Ideal Model')\n",
    "ax1.plot(test_score[:n], test_predictions, 'ro', label = 'Current Results')\n",
    "ax1.set_xlabel('Ground Truth Tumor Score')\n",
    "ax1.legend()\n",
    "ax1.set_ylabel('Predicted Tumor Score')\n",
    "ax1.set_xlim(-0.1,1.1)"
   ]
  },
  {
   "cell_type": "code",
   "execution_count": 85,
   "metadata": {
    "collapsed": false
   },
   "outputs": [
    {
     "name": "stdout",
     "output_type": "stream",
     "text": [
      "0.958959072409\n",
      "0.936102236422\n",
      "0.00162760416667\n"
     ]
    }
   ],
   "source": [
    "from sklearn.metrics import roc_auc_score, f1_score, brier_score_loss\n",
    "rscore=roc_auc_score(np.array(test_score[:n])>0, np.array(test_predictions)>0)\n",
    "print(rscore)\n",
    "f1score = f1_score(np.array(test_score[:n])>0, np.array(test_predictions)>0)\n",
    "print(f1score)\n",
    "bscore = brier_score_loss(np.array(test_score[:n])>0, np.array(test_predictions)>0)\n",
    "print(bscore)"
   ]
  },
  {
   "cell_type": "code",
   "execution_count": null,
   "metadata": {
    "collapsed": true
   },
   "outputs": [],
   "source": [
    "2 patients w/o black tile removal pet and ct"
   ]
  },
  {
   "cell_type": "code",
   "execution_count": 86,
   "metadata": {
    "collapsed": true
   },
   "outputs": [],
   "source": [
    "import pickle\n",
    "# save the model to disk\n",
    "filename = 'finalized_model.sav'\n",
    "pickle.dump(knn1_model, open(filename, 'wb'))"
   ]
  },
  {
   "cell_type": "code",
   "execution_count": null,
   "metadata": {
    "collapsed": true
   },
   "outputs": [],
   "source": []
  }
 ],
 "metadata": {
  "kernelspec": {
   "display_name": "Python 3",
   "language": "python",
   "name": "python3"
  },
  "language_info": {
   "codemirror_mode": {
    "name": "ipython",
    "version": 3
   },
   "file_extension": ".py",
   "mimetype": "text/x-python",
   "name": "python",
   "nbconvert_exporter": "python",
   "pygments_lexer": "ipython3",
   "version": "3.5.2"
  }
 },
 "nbformat": 4,
 "nbformat_minor": 2
}
